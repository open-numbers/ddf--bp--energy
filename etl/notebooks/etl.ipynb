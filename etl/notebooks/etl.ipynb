{
 "cells": [
  {
   "cell_type": "code",
   "execution_count": 1,
   "metadata": {},
   "outputs": [],
   "source": [
    "import pandas as pd\n",
    "import xlrd \n",
    "import os\n",
    "from ddf_utils.str import to_concept_id, format_float_digits"
   ]
  },
  {
   "cell_type": "code",
   "execution_count": 2,
   "metadata": {},
   "outputs": [],
   "source": [
    "from functools import partial"
   ]
  },
  {
   "cell_type": "code",
   "execution_count": 3,
   "metadata": {},
   "outputs": [],
   "source": [
    "sheet_loader = partial(pd.read_excel, skiprows=2)"
   ]
  },
  {
   "cell_type": "code",
   "execution_count": 4,
   "metadata": {},
   "outputs": [],
   "source": [
    "number_formatter = partial(format_float_digits, digits=8)"
   ]
  },
  {
   "cell_type": "code",
   "execution_count": 5,
   "metadata": {},
   "outputs": [],
   "source": [
    "source_file = '../source/bp-stats-review-2020-all-data.xlsx'"
   ]
  },
  {
   "cell_type": "code",
   "execution_count": 6,
   "metadata": {},
   "outputs": [],
   "source": [
    "sheets = xlrd.open_workbook(source_file, on_demand=True).sheet_names()"
   ]
  },
  {
   "cell_type": "code",
   "execution_count": 7,
   "metadata": {
    "scrolled": false
   },
   "outputs": [
    {
     "data": {
      "text/plain": [
       "['Contents',\n",
       " 'Primary Energy Consumption',\n",
       " 'Primary Energy - Cons by fuel',\n",
       " 'Primary Energy - Cons capita',\n",
       " 'Carbon Dioxide Emissions',\n",
       " 'Oil - Proved reserves',\n",
       " 'Oil - Proved reserves history',\n",
       " 'Oil Production - Barrels',\n",
       " 'Oil Production - Tonnes',\n",
       " 'Oil Production - Crude Conds',\n",
       " 'Oil Production - NGLs',\n",
       " 'Total Liquids - Consumption',\n",
       " 'Oil Consumption - Barrels',\n",
       " 'Oil Consumption - Tonnes',\n",
       " 'Oil Consumption - EJ',\n",
       " 'Oil - Regional Consumption ',\n",
       " 'Oil - Spot crude prices',\n",
       " 'Oil - Crude prices since 1861',\n",
       " 'Oil - Refinery throughput',\n",
       " 'Oil - Refining capacity',\n",
       " 'Oil - Regional refining margins',\n",
       " 'Oil - Trade movements',\n",
       " 'Oil - Inter-area movements ',\n",
       " 'Oil - Trade 2018 - 2019',\n",
       " 'Gas - Proved reserves',\n",
       " 'Gas - Proved reserves history ',\n",
       " 'Gas Production - Bcm',\n",
       " 'Gas Production - Bcf',\n",
       " 'Gas Production - EJ',\n",
       " 'Gas Consumption - Bcm',\n",
       " 'Gas Consumption - Bcf',\n",
       " 'Gas Consumption - EJ',\n",
       " 'Gas - Prices ',\n",
       " 'Gas - Inter-regional trade',\n",
       " 'Gas - LNG imports',\n",
       " 'Gas - LNG exports',\n",
       " 'Gas - Trade movts LNG',\n",
       " 'Gas - Trade movts - pipeline',\n",
       " 'Coal - Reserves',\n",
       " 'Coal Production - Tonnes',\n",
       " 'Coal Production - EJ',\n",
       " 'Coal Consumption - EJ',\n",
       " 'Coal - Prices',\n",
       " 'Coal - Trade movements',\n",
       " 'Coal - Inter area movts',\n",
       " 'Nuclear Generation - TWh',\n",
       " 'Nuclear Consumption - EJ',\n",
       " 'Hydro Generation - TWh',\n",
       " 'Hydro Consumption - EJ',\n",
       " 'Renewables Consumption - EJ',\n",
       " 'Renewables Power - EJ',\n",
       " 'Renewables Power - Twh',\n",
       " 'Renewables Generation by source',\n",
       " 'Solar Generation - TWh',\n",
       " 'Solar Consumption - EJ',\n",
       " 'Wind Generation -TWh',\n",
       " 'Wind Consumption - EJ',\n",
       " 'Geo Biomass Other - TWh',\n",
       " 'Geo Biomass Other - EJ',\n",
       " 'Biofuels Production - Kboed',\n",
       " 'Biofuels Production - PJ',\n",
       " 'Biofuels Consumption - Kboed',\n",
       " 'Biofuels Consumption - PJ',\n",
       " 'Electricity Generation ',\n",
       " 'Elec Gen by fuel',\n",
       " 'Elec Gen from Oil',\n",
       " 'Elec Gen from Gas',\n",
       " 'Elec Gen from Coal',\n",
       " 'Elec Gen from Other',\n",
       " 'Cobalt Production-Reserves',\n",
       " 'Lithium Production-Reserves',\n",
       " 'Graphite Production-Reserves',\n",
       " 'Rare Earth Production-Reserves',\n",
       " 'Cobalt and Lithium - Prices',\n",
       " 'Geothermal Capacity',\n",
       " 'Solar Capacity',\n",
       " 'Wind Capacity',\n",
       " 'Approximate conversion factors',\n",
       " 'Definitions',\n",
       " 'Methodology']"
      ]
     },
     "execution_count": 7,
     "metadata": {},
     "output_type": "execute_result"
    }
   ],
   "source": [
    "sheets"
   ]
  },
  {
   "cell_type": "code",
   "execution_count": null,
   "metadata": {},
   "outputs": [],
   "source": []
  },
  {
   "cell_type": "code",
   "execution_count": null,
   "metadata": {},
   "outputs": [],
   "source": []
  },
  {
   "cell_type": "code",
   "execution_count": 8,
   "metadata": {},
   "outputs": [],
   "source": [
    "contents = pd.read_excel(source_file, sheet_name='Contents', header=None)"
   ]
  },
  {
   "cell_type": "code",
   "execution_count": 9,
   "metadata": {
    "scrolled": true
   },
   "outputs": [
    {
     "data": {
      "text/html": [
       "<div>\n",
       "<style scoped>\n",
       "    .dataframe tbody tr th:only-of-type {\n",
       "        vertical-align: middle;\n",
       "    }\n",
       "\n",
       "    .dataframe tbody tr th {\n",
       "        vertical-align: top;\n",
       "    }\n",
       "\n",
       "    .dataframe thead th {\n",
       "        text-align: right;\n",
       "    }\n",
       "</style>\n",
       "<table border=\"1\" class=\"dataframe\">\n",
       "  <thead>\n",
       "    <tr style=\"text-align: right;\">\n",
       "      <th></th>\n",
       "      <th>0</th>\n",
       "    </tr>\n",
       "  </thead>\n",
       "  <tbody>\n",
       "    <tr>\n",
       "      <th>0</th>\n",
       "      <td>bp Statistical Review of World Energy June 2020</td>\n",
       "    </tr>\n",
       "    <tr>\n",
       "      <th>1</th>\n",
       "      <td>This workbook contains information presented ...</td>\n",
       "    </tr>\n",
       "    <tr>\n",
       "      <th>2</th>\n",
       "      <td>bp Statistical Review of World Energy, which ...</td>\n",
       "    </tr>\n",
       "    <tr>\n",
       "      <th>3</th>\n",
       "      <td>internet at:</td>\n",
       "    </tr>\n",
       "    <tr>\n",
       "      <th>4</th>\n",
       "      <td>http://www.bp.com/statisticalreview</td>\n",
       "    </tr>\n",
       "    <tr>\n",
       "      <th>...</th>\n",
       "      <td>...</td>\n",
       "    </tr>\n",
       "    <tr>\n",
       "      <th>81</th>\n",
       "      <td>Renewable Energy - Solar (Installed capacity)</td>\n",
       "    </tr>\n",
       "    <tr>\n",
       "      <th>82</th>\n",
       "      <td>Renewable Energy - Wind  (Installed capacity)</td>\n",
       "    </tr>\n",
       "    <tr>\n",
       "      <th>83</th>\n",
       "      <td>Approximate conversion factors</td>\n",
       "    </tr>\n",
       "    <tr>\n",
       "      <th>84</th>\n",
       "      <td>Definitions</td>\n",
       "    </tr>\n",
       "    <tr>\n",
       "      <th>85</th>\n",
       "      <td>Methodology</td>\n",
       "    </tr>\n",
       "  </tbody>\n",
       "</table>\n",
       "<p>86 rows × 1 columns</p>\n",
       "</div>"
      ],
      "text/plain": [
       "                                                    0\n",
       "0     bp Statistical Review of World Energy June 2020\n",
       "1    This workbook contains information presented ...\n",
       "2    bp Statistical Review of World Energy, which ...\n",
       "3                                        internet at:\n",
       "4                 http://www.bp.com/statisticalreview\n",
       "..                                                ...\n",
       "81      Renewable Energy - Solar (Installed capacity)\n",
       "82      Renewable Energy - Wind  (Installed capacity)\n",
       "83                     Approximate conversion factors\n",
       "84                                        Definitions\n",
       "85                                        Methodology\n",
       "\n",
       "[86 rows x 1 columns]"
      ]
     },
     "execution_count": 9,
     "metadata": {},
     "output_type": "execute_result"
    }
   ],
   "source": [
    "contents"
   ]
  },
  {
   "cell_type": "code",
   "execution_count": 10,
   "metadata": {},
   "outputs": [],
   "source": [
    "tabs_to_parse = contents.loc[6:82, 0]"
   ]
  },
  {
   "cell_type": "code",
   "execution_count": 11,
   "metadata": {
    "scrolled": true
   },
   "outputs": [
    {
     "data": {
      "text/plain": [
       "6     Primary Energy: Consumption - Exajoules (from ...\n",
       "7     Primary Energy: Consumption by fuel type - Exa...\n",
       "8     Primary Energy: Consumption per capita - Gigaj...\n",
       "9                  Carbon Dioxide Emissions (from 1965)\n",
       "10                                 Oil: Proved reserves\n",
       "                            ...                        \n",
       "78    Key materials - Rare Earth Production - Reserv...\n",
       "79            Key materials - Cobalt and Lithium Prices\n",
       "80    Renewable Energy - Geothermal (Installed capac...\n",
       "81        Renewable Energy - Solar (Installed capacity)\n",
       "82        Renewable Energy - Wind  (Installed capacity)\n",
       "Name: 0, Length: 77, dtype: object"
      ]
     },
     "execution_count": 11,
     "metadata": {},
     "output_type": "execute_result"
    }
   ],
   "source": [
    "tabs_to_parse"
   ]
  },
  {
   "cell_type": "code",
   "execution_count": 12,
   "metadata": {},
   "outputs": [
    {
     "data": {
      "text/plain": [
       "77"
      ]
     },
     "execution_count": 12,
     "metadata": {},
     "output_type": "execute_result"
    }
   ],
   "source": [
    "len(sheets[1:-2])"
   ]
  },
  {
   "cell_type": "code",
   "execution_count": 13,
   "metadata": {
    "scrolled": false
   },
   "outputs": [],
   "source": [
    "tabs = pd.DataFrame({'full_name': tabs_to_parse, 'tab_name': sheets[1:-2]})"
   ]
  },
  {
   "cell_type": "code",
   "execution_count": 14,
   "metadata": {
    "scrolled": false
   },
   "outputs": [
    {
     "data": {
      "text/html": [
       "<div>\n",
       "<style scoped>\n",
       "    .dataframe tbody tr th:only-of-type {\n",
       "        vertical-align: middle;\n",
       "    }\n",
       "\n",
       "    .dataframe tbody tr th {\n",
       "        vertical-align: top;\n",
       "    }\n",
       "\n",
       "    .dataframe thead th {\n",
       "        text-align: right;\n",
       "    }\n",
       "</style>\n",
       "<table border=\"1\" class=\"dataframe\">\n",
       "  <thead>\n",
       "    <tr style=\"text-align: right;\">\n",
       "      <th></th>\n",
       "      <th>full_name</th>\n",
       "      <th>tab_name</th>\n",
       "    </tr>\n",
       "  </thead>\n",
       "  <tbody>\n",
       "    <tr>\n",
       "      <th>6</th>\n",
       "      <td>Primary Energy: Consumption - Exajoules (from ...</td>\n",
       "      <td>Primary Energy Consumption</td>\n",
       "    </tr>\n",
       "    <tr>\n",
       "      <th>7</th>\n",
       "      <td>Primary Energy: Consumption by fuel type - Exa...</td>\n",
       "      <td>Primary Energy - Cons by fuel</td>\n",
       "    </tr>\n",
       "    <tr>\n",
       "      <th>8</th>\n",
       "      <td>Primary Energy: Consumption per capita - Gigaj...</td>\n",
       "      <td>Primary Energy - Cons capita</td>\n",
       "    </tr>\n",
       "    <tr>\n",
       "      <th>9</th>\n",
       "      <td>Carbon Dioxide Emissions (from 1965)</td>\n",
       "      <td>Carbon Dioxide Emissions</td>\n",
       "    </tr>\n",
       "    <tr>\n",
       "      <th>10</th>\n",
       "      <td>Oil: Proved reserves</td>\n",
       "      <td>Oil - Proved reserves</td>\n",
       "    </tr>\n",
       "    <tr>\n",
       "      <th>...</th>\n",
       "      <td>...</td>\n",
       "      <td>...</td>\n",
       "    </tr>\n",
       "    <tr>\n",
       "      <th>78</th>\n",
       "      <td>Key materials - Rare Earth Production - Reserv...</td>\n",
       "      <td>Cobalt and Lithium - Prices</td>\n",
       "    </tr>\n",
       "    <tr>\n",
       "      <th>79</th>\n",
       "      <td>Key materials - Cobalt and Lithium Prices</td>\n",
       "      <td>Geothermal Capacity</td>\n",
       "    </tr>\n",
       "    <tr>\n",
       "      <th>80</th>\n",
       "      <td>Renewable Energy - Geothermal (Installed capac...</td>\n",
       "      <td>Solar Capacity</td>\n",
       "    </tr>\n",
       "    <tr>\n",
       "      <th>81</th>\n",
       "      <td>Renewable Energy - Solar (Installed capacity)</td>\n",
       "      <td>Wind Capacity</td>\n",
       "    </tr>\n",
       "    <tr>\n",
       "      <th>82</th>\n",
       "      <td>Renewable Energy - Wind  (Installed capacity)</td>\n",
       "      <td>Approximate conversion factors</td>\n",
       "    </tr>\n",
       "  </tbody>\n",
       "</table>\n",
       "<p>77 rows × 2 columns</p>\n",
       "</div>"
      ],
      "text/plain": [
       "                                            full_name  \\\n",
       "6   Primary Energy: Consumption - Exajoules (from ...   \n",
       "7   Primary Energy: Consumption by fuel type - Exa...   \n",
       "8   Primary Energy: Consumption per capita - Gigaj...   \n",
       "9                Carbon Dioxide Emissions (from 1965)   \n",
       "10                               Oil: Proved reserves   \n",
       "..                                                ...   \n",
       "78  Key materials - Rare Earth Production - Reserv...   \n",
       "79          Key materials - Cobalt and Lithium Prices   \n",
       "80  Renewable Energy - Geothermal (Installed capac...   \n",
       "81      Renewable Energy - Solar (Installed capacity)   \n",
       "82      Renewable Energy - Wind  (Installed capacity)   \n",
       "\n",
       "                          tab_name  \n",
       "6       Primary Energy Consumption  \n",
       "7    Primary Energy - Cons by fuel  \n",
       "8     Primary Energy - Cons capita  \n",
       "9         Carbon Dioxide Emissions  \n",
       "10           Oil - Proved reserves  \n",
       "..                             ...  \n",
       "78     Cobalt and Lithium - Prices  \n",
       "79             Geothermal Capacity  \n",
       "80                  Solar Capacity  \n",
       "81                   Wind Capacity  \n",
       "82  Approximate conversion factors  \n",
       "\n",
       "[77 rows x 2 columns]"
      ]
     },
     "execution_count": 14,
     "metadata": {},
     "output_type": "execute_result"
    }
   ],
   "source": [
    "tabs"
   ]
  },
  {
   "cell_type": "code",
   "execution_count": 15,
   "metadata": {},
   "outputs": [],
   "source": [
    "tabs.to_csv('tabs.csv', index=False)"
   ]
  },
  {
   "cell_type": "code",
   "execution_count": null,
   "metadata": {},
   "outputs": [],
   "source": []
  },
  {
   "cell_type": "code",
   "execution_count": 16,
   "metadata": {},
   "outputs": [],
   "source": [
    "# Plan:\n",
    "# production, consumption: create indicators with country/year/fuel/unit dimension (because they have different units)"
   ]
  },
  {
   "cell_type": "code",
   "execution_count": null,
   "metadata": {},
   "outputs": [],
   "source": []
  },
  {
   "cell_type": "code",
   "execution_count": 17,
   "metadata": {},
   "outputs": [],
   "source": [
    "def preprocess(data):\n",
    "    \"\"\"preprocessing the data:\n",
    "    1. rename the first column to geo_name\n",
    "    2. rename the geo_name to alphanumeric\n",
    "    3. drop all empty lines and lines after 'total world'\n",
    "\n",
    "    Note: This function only applies to the tab with country as row index\n",
    "    and year as column index.\n",
    "    \"\"\"\n",
    "    data = data.rename(columns={data.columns[0]: 'geo_name'})\n",
    "    data['geo'] = data['geo_name'].map(to_concept_id)\n",
    "    data = data.set_index('geo')\n",
    "    data = data.dropna(how='all')\n",
    "    data = data.loc[:'total_world']\n",
    "    data = data.reset_index()\n",
    "    return data"
   ]
  },
  {
   "cell_type": "code",
   "execution_count": null,
   "metadata": {},
   "outputs": [],
   "source": []
  },
  {
   "cell_type": "code",
   "execution_count": 18,
   "metadata": {},
   "outputs": [],
   "source": [
    "def apply_map(x, m):\n",
    "    \"\"\"general function to replace value in a Series.\"\"\"\n",
    "    if x in m:\n",
    "        return m[x]\n",
    "    return x"
   ]
  },
  {
   "cell_type": "code",
   "execution_count": null,
   "metadata": {},
   "outputs": [],
   "source": []
  },
  {
   "cell_type": "code",
   "execution_count": null,
   "metadata": {},
   "outputs": [],
   "source": []
  },
  {
   "cell_type": "markdown",
   "metadata": {},
   "source": [
    "there are a few formats in the excel, we will create handler for each format\n",
    "\n",
    "```\n",
    "indicators with only geo, time dimension:\n",
    "\n",
    "Primary Energy: Consumption - Mtoe (from 1965),Primary Energy Consumption\n",
    "Carbon Dioxide Emissions (from 1965),Carbon Dioxide Emissions\n",
    "Oil: Refinery throughput (from 1980),Oil - Refinery throughput\n",
    "Oil: Refining capacity (from 1965),Oil - Refining capacity\n",
    "Electricity generation - TWh (from 1985),Electricity Generation\n",
    "Primary Energy: Consumption per capita - Gigajoule per capita (from 1965),Primary Energy - Cons capita\n",
    "\n",
    "\n",
    "geo/time/fuel, indicators with unit: \n",
    "\n",
    "Oil: Production - Barrels (from 1965),Oil Production - Barrels\n",
    "Oil: Production - Tonnes (from 1965),Oil Production - Tonnes\n",
    "Oil: Consumption - Barrels (from 1965),Oil Consumption - Barrels\n",
    "Oil: Consumption - Tonnes (from 1965),Oil Consumption - Tonnes\n",
    "Oil: Consumption - Mtoe (from 1965),OIl Consumption - Mtoe\n",
    "Oil: Refinery throughput (from 1980),Oil - Refinery throughput\n",
    "Oil: Refining capacity (from 1965),Oil - Refining capacity\n",
    "Gas: Proved reserves - Bcm (from 1980),Gas - Proved reserves history \n",
    "Gas: Production - Bcm (from 1970),Gas Production - Bcm\n",
    "Gas: Production - Bcf (from 1970),Gas Production - Bcf\n",
    "Gas: Production - Mtoe (from 1970),Gas Production - Mtoe\n",
    "Gas: Consumption - Bcm (from 1965),Gas Consumption - Bcm\n",
    "Gas: Consumption - Bcf (from 1965),Gas Consumption - Bcf\n",
    "Gas: Consumption - Mtoe (from 1965),Gas Consumption - Mtoe\n",
    "Coal: Production - Tonnes (from 1981),Coal Production - Tonnes\n",
    "Coal: Production - Mtoe (from 1981),Coal Production - Mtoe\n",
    "Coal: Consumption - Mtoe (from 1965),Coal Consumption - Mtoe\n",
    "Nuclear Energy - Generation - TWh (from 1965),Nuclear Generation - TWh\n",
    "Nuclear Energy - Consumption - Mtoe (from 1965),Nuclear Consumption - Mtoe\n",
    "Hydroelectricity - Generation - TWh (from 1965),Hydro Generation - TWh\n",
    "Hydroelectricity - Consumption - Mtoe (from 1965),Hydro Consumption - Mtoe\n",
    "Renewables - Other renewables generation -Twh (from 1965),Other renewables - TWh\n",
    "Renewables - Other renewables consumption - Mtoe (from 1965),Other renewables - Mtoe\n",
    "Renewables - Solar generation - TWh (from 1965),Solar Consumption - TWh\n",
    "Renewables - Solar consumption - Mtoe (from 1965),Solar Consumption - Mtoe\n",
    "Renewables - Wind generation - TWh (from 1965),Wind Consumption - TWh \n",
    "Renewables - Wind consumption - Mtoe (from 1965),Wind Consumption - Mtoe\n",
    "\"Renewables - Geothermal, Biomass and Other generation - TWh  (from 1965)\",Geo Biomass Other - TWh\n",
    "\"Renewables - Geothermal, Biomass and Other - Mtoe  (from 1965)\",Geo Biomass Other - Mtoe\n",
    "Renewables - Biofuels production - Kboe/d (from 1990),Biofuels Production - Kboed\n",
    "Renewables - Biofuels production - Ktoe (from 1990),Biofuels Production - Ktoe\n",
    "\n",
    "Electricity generation from oil -TWh (from 1985),Elec Gen from Oil\n",
    "Electricity generation from gas - TWh (from 1985),Elec Gen from Gas\n",
    "Electricity generation from coal - TWh (from 1985),Elec Gen from Coal\n",
    "Electricity generation from other - TWh (from 1985),Elec Gen from Other\n",
    "\n",
    "Production - Reserves by key materials:\n",
    "\n",
    "Key materials - Cobalt Production - Reserves (from 1995),Cobalt Production-Reserves\n",
    "Key materials - Lithium Production - Reserves (from 1995),Lithium Production-Reserves\n",
    "Key materials - Graphite Production - Reserves (from 1995),Graphite Production-Reserves\n",
    "Key materials - Rare Earth Production - Reserves (from 1995),Rare Earth Production-Reserves\n",
    "Key materials - Cobalt and Lithium Prices,Cobalt and Lithium - Prices\n",
    "\n",
    "Regional consumption - by product:\n",
    "\n",
    "Oil: Regional consumption - by product - Barrels (from 1965),Oil - Regional Consumption \n",
    "\n",
    "\n",
    "history prices:\n",
    "\n",
    "Oil: Spot crude prices ,Oil - Spot crude prices\n",
    "Oil: Crude prices since 1861,Oil - Crude prices since 1861\n",
    "Gas: Prices ,Gas - Prices \n",
    "Coal: Prices,Coal - Prices\n",
    "\n",
    "\n",
    "class 4:\n",
    "\n",
    "Oil: Regional refining margins (from 1992),Oil - Regional refining margins\n",
    "\n",
    "class 5:\n",
    "\n",
    "Oil: Trade movements (from 1980),Oil - Trade movements\n",
    "Oil: Inter-area movements ,Oil - Inter-area movements\n",
    "Oil: Trade 2016-2017,Oil - Trade 2016- 2017\n",
    "Gas: Trade movements pipeline,Gas - Trade - pipeline\n",
    "Gas: Trade movements LNG,Gas - Trade movements LNG\n",
    "Gas: Trade 2016-2017,Gas - Trade 2016-2017\n",
    "\n",
    "\n",
    "```"
   ]
  },
  {
   "cell_type": "code",
   "execution_count": null,
   "metadata": {},
   "outputs": [],
   "source": []
  },
  {
   "cell_type": "code",
   "execution_count": null,
   "metadata": {},
   "outputs": [],
   "source": []
  },
  {
   "cell_type": "code",
   "execution_count": 19,
   "metadata": {},
   "outputs": [],
   "source": [
    "def process_1(data, ddf_id):\n",
    "    data = data.dropna(axis=1, how='all')\n",
    "    data = data.drop('geo_name', axis=1)\n",
    "    idx = list(data.columns).index(2019)  #TODO: change the year column\n",
    "    data = data.iloc[:, :idx + 1]  # drop columns after latest year of each sheet.\n",
    "    #data = data.drop(['2019.1', '2019.2', '2008-18'], axis=1)\n",
    "    \n",
    "    data = data.set_index('geo')\n",
    "\n",
    "    d = data.T.unstack()\n",
    "    d = d.dropna()\n",
    "    d = d.reset_index()\n",
    "    d.columns = ['geo', 'year', ddf_id]\n",
    "    d[ddf_id] = d[ddf_id].map(number_formatter)\n",
    "\n",
    "    return d.sort_values(by=['geo', 'year'])"
   ]
  },
  {
   "cell_type": "code",
   "execution_count": null,
   "metadata": {},
   "outputs": [],
   "source": []
  },
  {
   "cell_type": "code",
   "execution_count": 20,
   "metadata": {
    "scrolled": true
   },
   "outputs": [
    {
     "data": {
      "text/plain": [
       "full_name    Primary Energy: Consumption - Exajoules (from ...\n",
       "tab_name                            Primary Energy Consumption\n",
       "Name: 6, dtype: object"
      ]
     },
     "execution_count": 20,
     "metadata": {},
     "output_type": "execute_result"
    }
   ],
   "source": [
    "tabs.iloc[0]"
   ]
  },
  {
   "cell_type": "code",
   "execution_count": null,
   "metadata": {},
   "outputs": [],
   "source": []
  },
  {
   "cell_type": "code",
   "execution_count": null,
   "metadata": {},
   "outputs": [],
   "source": []
  },
  {
   "cell_type": "code",
   "execution_count": 21,
   "metadata": {},
   "outputs": [],
   "source": [
    "data1 = sheet_loader(source_file, sheet_name='Primary Energy Consumption')"
   ]
  },
  {
   "cell_type": "code",
   "execution_count": 22,
   "metadata": {
    "scrolled": false
   },
   "outputs": [],
   "source": [
    "data1 = preprocess(data1)"
   ]
  },
  {
   "cell_type": "code",
   "execution_count": 23,
   "metadata": {
    "scrolled": true
   },
   "outputs": [
    {
     "data": {
      "text/html": [
       "<div>\n",
       "<style scoped>\n",
       "    .dataframe tbody tr th:only-of-type {\n",
       "        vertical-align: middle;\n",
       "    }\n",
       "\n",
       "    .dataframe tbody tr th {\n",
       "        vertical-align: top;\n",
       "    }\n",
       "\n",
       "    .dataframe thead th {\n",
       "        text-align: right;\n",
       "    }\n",
       "</style>\n",
       "<table border=\"1\" class=\"dataframe\">\n",
       "  <thead>\n",
       "    <tr style=\"text-align: right;\">\n",
       "      <th></th>\n",
       "      <th>geo</th>\n",
       "      <th>geo_name</th>\n",
       "      <th>1965</th>\n",
       "      <th>1966</th>\n",
       "      <th>1967</th>\n",
       "      <th>1968</th>\n",
       "      <th>1969</th>\n",
       "      <th>1970</th>\n",
       "      <th>1971</th>\n",
       "      <th>1972</th>\n",
       "      <th>...</th>\n",
       "      <th>2015</th>\n",
       "      <th>2016</th>\n",
       "      <th>2017</th>\n",
       "      <th>2018</th>\n",
       "      <th>2019</th>\n",
       "      <th>2019.1</th>\n",
       "      <th>2008-18</th>\n",
       "      <th>2019.2</th>\n",
       "      <th>Unnamed: 59</th>\n",
       "      <th>Unnamed: 60</th>\n",
       "    </tr>\n",
       "  </thead>\n",
       "  <tbody>\n",
       "    <tr>\n",
       "      <th>0</th>\n",
       "      <td>canada</td>\n",
       "      <td>Canada</td>\n",
       "      <td>4.924317</td>\n",
       "      <td>5.239095</td>\n",
       "      <td>5.480214</td>\n",
       "      <td>5.836056</td>\n",
       "      <td>6.185953</td>\n",
       "      <td>6.624581</td>\n",
       "      <td>6.831992</td>\n",
       "      <td>7.348642</td>\n",
       "      <td>...</td>\n",
       "      <td>13.993650</td>\n",
       "      <td>13.936678</td>\n",
       "      <td>14.109482</td>\n",
       "      <td>14.349534</td>\n",
       "      <td>14.214058</td>\n",
       "      <td>-0.009441</td>\n",
       "      <td>0.006404</td>\n",
       "      <td>0.024343</td>\n",
       "      <td>NaN</td>\n",
       "      <td>NaN</td>\n",
       "    </tr>\n",
       "    <tr>\n",
       "      <th>1</th>\n",
       "      <td>mexico</td>\n",
       "      <td>Mexico</td>\n",
       "      <td>1.050253</td>\n",
       "      <td>1.111572</td>\n",
       "      <td>1.132470</td>\n",
       "      <td>1.232997</td>\n",
       "      <td>1.353689</td>\n",
       "      <td>1.444834</td>\n",
       "      <td>1.519984</td>\n",
       "      <td>1.680466</td>\n",
       "      <td>...</td>\n",
       "      <td>7.688300</td>\n",
       "      <td>7.785419</td>\n",
       "      <td>7.895341</td>\n",
       "      <td>7.833322</td>\n",
       "      <td>7.720742</td>\n",
       "      <td>-0.014372</td>\n",
       "      <td>0.009057</td>\n",
       "      <td>0.013223</td>\n",
       "      <td>NaN</td>\n",
       "      <td>NaN</td>\n",
       "    </tr>\n",
       "    <tr>\n",
       "      <th>2</th>\n",
       "      <td>us</td>\n",
       "      <td>US</td>\n",
       "      <td>52.433795</td>\n",
       "      <td>55.383038</td>\n",
       "      <td>57.311776</td>\n",
       "      <td>60.799094</td>\n",
       "      <td>64.049612</td>\n",
       "      <td>66.215508</td>\n",
       "      <td>67.591944</td>\n",
       "      <td>71.064330</td>\n",
       "      <td>...</td>\n",
       "      <td>92.149004</td>\n",
       "      <td>92.017799</td>\n",
       "      <td>92.330525</td>\n",
       "      <td>95.602919</td>\n",
       "      <td>94.648804</td>\n",
       "      <td>-0.009980</td>\n",
       "      <td>0.001054</td>\n",
       "      <td>0.162098</td>\n",
       "      <td>NaN</td>\n",
       "      <td>NaN</td>\n",
       "    </tr>\n",
       "    <tr>\n",
       "      <th>3</th>\n",
       "      <td>total_north_america</td>\n",
       "      <td>Total North America</td>\n",
       "      <td>58.408365</td>\n",
       "      <td>61.733704</td>\n",
       "      <td>63.924460</td>\n",
       "      <td>67.868147</td>\n",
       "      <td>71.589254</td>\n",
       "      <td>74.284923</td>\n",
       "      <td>75.943920</td>\n",
       "      <td>80.093438</td>\n",
       "      <td>...</td>\n",
       "      <td>113.830955</td>\n",
       "      <td>113.739897</td>\n",
       "      <td>114.335348</td>\n",
       "      <td>117.785775</td>\n",
       "      <td>116.583604</td>\n",
       "      <td>-0.010206</td>\n",
       "      <td>0.002204</td>\n",
       "      <td>0.199664</td>\n",
       "      <td>NaN</td>\n",
       "      <td>NaN</td>\n",
       "    </tr>\n",
       "    <tr>\n",
       "      <th>4</th>\n",
       "      <td>argentina</td>\n",
       "      <td>Argentina</td>\n",
       "      <td>1.127632</td>\n",
       "      <td>1.165108</td>\n",
       "      <td>1.199725</td>\n",
       "      <td>1.241234</td>\n",
       "      <td>1.283912</td>\n",
       "      <td>1.212762</td>\n",
       "      <td>1.288378</td>\n",
       "      <td>1.311442</td>\n",
       "      <td>...</td>\n",
       "      <td>3.585803</td>\n",
       "      <td>3.576195</td>\n",
       "      <td>3.566920</td>\n",
       "      <td>3.540866</td>\n",
       "      <td>3.462769</td>\n",
       "      <td>-0.022056</td>\n",
       "      <td>0.012502</td>\n",
       "      <td>0.005930</td>\n",
       "      <td>NaN</td>\n",
       "      <td>NaN</td>\n",
       "    </tr>\n",
       "  </tbody>\n",
       "</table>\n",
       "<p>5 rows × 62 columns</p>\n",
       "</div>"
      ],
      "text/plain": [
       "                   geo             geo_name       1965       1966       1967  \\\n",
       "0               canada               Canada   4.924317   5.239095   5.480214   \n",
       "1               mexico               Mexico   1.050253   1.111572   1.132470   \n",
       "2                   us                   US  52.433795  55.383038  57.311776   \n",
       "3  total_north_america  Total North America  58.408365  61.733704  63.924460   \n",
       "4            argentina            Argentina   1.127632   1.165108   1.199725   \n",
       "\n",
       "        1968       1969       1970       1971       1972  ...        2015  \\\n",
       "0   5.836056   6.185953   6.624581   6.831992   7.348642  ...   13.993650   \n",
       "1   1.232997   1.353689   1.444834   1.519984   1.680466  ...    7.688300   \n",
       "2  60.799094  64.049612  66.215508  67.591944  71.064330  ...   92.149004   \n",
       "3  67.868147  71.589254  74.284923  75.943920  80.093438  ...  113.830955   \n",
       "4   1.241234   1.283912   1.212762   1.288378   1.311442  ...    3.585803   \n",
       "\n",
       "         2016        2017        2018        2019    2019.1   2008-18  \\\n",
       "0   13.936678   14.109482   14.349534   14.214058 -0.009441  0.006404   \n",
       "1    7.785419    7.895341    7.833322    7.720742 -0.014372  0.009057   \n",
       "2   92.017799   92.330525   95.602919   94.648804 -0.009980  0.001054   \n",
       "3  113.739897  114.335348  117.785775  116.583604 -0.010206  0.002204   \n",
       "4    3.576195    3.566920    3.540866    3.462769 -0.022056  0.012502   \n",
       "\n",
       "     2019.2  Unnamed: 59  Unnamed: 60  \n",
       "0  0.024343          NaN          NaN  \n",
       "1  0.013223          NaN          NaN  \n",
       "2  0.162098          NaN          NaN  \n",
       "3  0.199664          NaN          NaN  \n",
       "4  0.005930          NaN          NaN  \n",
       "\n",
       "[5 rows x 62 columns]"
      ]
     },
     "execution_count": 23,
     "metadata": {},
     "output_type": "execute_result"
    }
   ],
   "source": [
    "data1.head()"
   ]
  },
  {
   "cell_type": "code",
   "execution_count": 24,
   "metadata": {
    "scrolled": true
   },
   "outputs": [
    {
     "data": {
      "text/html": [
       "<div>\n",
       "<style scoped>\n",
       "    .dataframe tbody tr th:only-of-type {\n",
       "        vertical-align: middle;\n",
       "    }\n",
       "\n",
       "    .dataframe tbody tr th {\n",
       "        vertical-align: top;\n",
       "    }\n",
       "\n",
       "    .dataframe thead th {\n",
       "        text-align: right;\n",
       "    }\n",
       "</style>\n",
       "<table border=\"1\" class=\"dataframe\">\n",
       "  <thead>\n",
       "    <tr style=\"text-align: right;\">\n",
       "      <th></th>\n",
       "      <th>geo</th>\n",
       "      <th>year</th>\n",
       "      <th>primary_energy_consumption_mtoe</th>\n",
       "    </tr>\n",
       "  </thead>\n",
       "  <tbody>\n",
       "    <tr>\n",
       "      <th>3520</th>\n",
       "      <td>algeria</td>\n",
       "      <td>1965</td>\n",
       "      <td>0.08913947</td>\n",
       "    </tr>\n",
       "    <tr>\n",
       "      <th>3521</th>\n",
       "      <td>algeria</td>\n",
       "      <td>1966</td>\n",
       "      <td>0.10716806</td>\n",
       "    </tr>\n",
       "    <tr>\n",
       "      <th>3522</th>\n",
       "      <td>algeria</td>\n",
       "      <td>1967</td>\n",
       "      <td>0.10142615</td>\n",
       "    </tr>\n",
       "    <tr>\n",
       "      <th>3523</th>\n",
       "      <td>algeria</td>\n",
       "      <td>1968</td>\n",
       "      <td>0.10887872</td>\n",
       "    </tr>\n",
       "    <tr>\n",
       "      <th>3524</th>\n",
       "      <td>algeria</td>\n",
       "      <td>1969</td>\n",
       "      <td>0.12050818</td>\n",
       "    </tr>\n",
       "    <tr>\n",
       "      <th>...</th>\n",
       "      <td>...</td>\n",
       "      <td>...</td>\n",
       "      <td>...</td>\n",
       "    </tr>\n",
       "    <tr>\n",
       "      <th>260</th>\n",
       "      <td>argentina</td>\n",
       "      <td>2005</td>\n",
       "      <td>2.802798</td>\n",
       "    </tr>\n",
       "    <tr>\n",
       "      <th>261</th>\n",
       "      <td>argentina</td>\n",
       "      <td>2006</td>\n",
       "      <td>2.94482844</td>\n",
       "    </tr>\n",
       "    <tr>\n",
       "      <th>262</th>\n",
       "      <td>argentina</td>\n",
       "      <td>2007</td>\n",
       "      <td>3.07479095</td>\n",
       "    </tr>\n",
       "    <tr>\n",
       "      <th>263</th>\n",
       "      <td>argentina</td>\n",
       "      <td>2008</td>\n",
       "      <td>3.12715637</td>\n",
       "    </tr>\n",
       "    <tr>\n",
       "      <th>264</th>\n",
       "      <td>argentina</td>\n",
       "      <td>2009</td>\n",
       "      <td>3.06680407</td>\n",
       "    </tr>\n",
       "  </tbody>\n",
       "</table>\n",
       "<p>100 rows × 3 columns</p>\n",
       "</div>"
      ],
      "text/plain": [
       "            geo  year primary_energy_consumption_mtoe\n",
       "3520    algeria  1965                      0.08913947\n",
       "3521    algeria  1966                      0.10716806\n",
       "3522    algeria  1967                      0.10142615\n",
       "3523    algeria  1968                      0.10887872\n",
       "3524    algeria  1969                      0.12050818\n",
       "...         ...   ...                             ...\n",
       "260   argentina  2005                        2.802798\n",
       "261   argentina  2006                      2.94482844\n",
       "262   argentina  2007                      3.07479095\n",
       "263   argentina  2008                      3.12715637\n",
       "264   argentina  2009                      3.06680407\n",
       "\n",
       "[100 rows x 3 columns]"
      ]
     },
     "execution_count": 24,
     "metadata": {},
     "output_type": "execute_result"
    }
   ],
   "source": [
    "process_1(data1, to_concept_id('Primary Energy: Consumption - Mtoe')).head(100)"
   ]
  },
  {
   "cell_type": "code",
   "execution_count": 25,
   "metadata": {},
   "outputs": [],
   "source": [
    "df = process_1(data1, to_concept_id('Primary Energy: Consumption - Mtoe'))"
   ]
  },
  {
   "cell_type": "code",
   "execution_count": 26,
   "metadata": {},
   "outputs": [
    {
     "data": {
      "text/plain": [
       "array(['Canada', 'Mexico', 'US', 'Total North America', 'Argentina',\n",
       "       'Brazil', 'Chile', 'Colombia', 'Ecuador', 'Peru',\n",
       "       'Trinidad & Tobago', 'Venezuela', 'Central America',\n",
       "       'Other Caribbean', 'Other South America',\n",
       "       'Total S. & Cent. America', 'Austria', 'Belgium', 'Bulgaria',\n",
       "       'Croatia', 'Cyprus', 'Czech Republic', 'Denmark', 'Estonia',\n",
       "       'Finland', 'France', 'Germany', 'Greece', 'Hungary', 'Iceland',\n",
       "       'Ireland', 'Italy', 'Latvia', 'Lithuania', 'Luxembourg',\n",
       "       'Netherlands', 'North Macedonia', 'Norway', 'Poland', 'Portugal',\n",
       "       'Romania', 'Slovakia', 'Slovenia', 'Spain', 'Sweden',\n",
       "       'Switzerland', 'Turkey', 'Ukraine', 'United Kingdom',\n",
       "       'Other Europe', 'Total Europe', 'Azerbaijan', 'Belarus',\n",
       "       'Kazakhstan', 'Russian Federation', 'Turkmenistan', 'USSR',\n",
       "       'Uzbekistan', 'Other CIS', 'Total CIS', 'Iran', 'Iraq', 'Israel',\n",
       "       'Kuwait', 'Oman', 'Qatar', 'Saudi Arabia', 'United Arab Emirates',\n",
       "       'Other Middle East', 'Total Middle East', 'Algeria', 'Egypt',\n",
       "       'Morocco', 'South Africa', 'Eastern Africa', 'Middle Africa',\n",
       "       'Western Africa', 'Other Northern Africa', 'Other Southern Africa',\n",
       "       'Total Africa', 'Australia', 'Bangladesh', 'China',\n",
       "       'China Hong Kong SAR', 'India', 'Indonesia', 'Japan', 'Malaysia',\n",
       "       'New Zealand', 'Pakistan', 'Philippines', 'Singapore',\n",
       "       'South Korea', 'Sri Lanka', 'Taiwan', 'Thailand', 'Vietnam',\n",
       "       'Other Asia Pacific', 'Total Asia Pacific', 'Total World'],\n",
       "      dtype=object)"
      ]
     },
     "execution_count": 26,
     "metadata": {},
     "output_type": "execute_result"
    }
   ],
   "source": [
    "data1['geo_name'].unique()"
   ]
  },
  {
   "cell_type": "code",
   "execution_count": 27,
   "metadata": {},
   "outputs": [],
   "source": [
    "# df.to_csv('../../ddf--datapoints--primary_energy_consumption_mtoe--by--geo--year.csv', index=False)"
   ]
  },
  {
   "cell_type": "code",
   "execution_count": null,
   "metadata": {},
   "outputs": [],
   "source": []
  },
  {
   "cell_type": "code",
   "execution_count": null,
   "metadata": {},
   "outputs": [],
   "source": []
  },
  {
   "cell_type": "code",
   "execution_count": 28,
   "metadata": {},
   "outputs": [],
   "source": [
    "countries = []"
   ]
  },
  {
   "cell_type": "code",
   "execution_count": null,
   "metadata": {},
   "outputs": [],
   "source": []
  },
  {
   "cell_type": "code",
   "execution_count": null,
   "metadata": {},
   "outputs": [],
   "source": []
  },
  {
   "cell_type": "code",
   "execution_count": 29,
   "metadata": {},
   "outputs": [],
   "source": [
    "tabs_indicator_mapping1 = {\n",
    "    'Primary Energy Consumption': to_concept_id('Primary Energy Consumption'),\n",
    "    'Primary Energy - Cons capita': to_concept_id('Primary Energy Consumption per capita'),\n",
    "    'Carbon Dioxide Emissions': to_concept_id('Carbon Dioxide Emissions'),\n",
    "    'Oil - Refinery throughput': to_concept_id('Oil - Refinery throughput'),\n",
    "    'Oil - Refining capacity': to_concept_id('Oil - Refining capacity'),\n",
    "    'Oil - Proved reserves history': to_concept_id('Oil - Proved reserves'),\n",
    "    'Gas - Proved reserves history ': to_concept_id('Gas - Proved reserves'),\n",
    "    'Electricity Generation ': to_concept_id('Electricity Generation')\n",
    "}"
   ]
  },
  {
   "cell_type": "code",
   "execution_count": 30,
   "metadata": {},
   "outputs": [],
   "source": [
    "for t, indicator in tabs_indicator_mapping1.items():\n",
    "    data = sheet_loader(source_file, sheet_name=t)\n",
    "    data = preprocess(data)\n",
    "    countries.append(data['geo_name'].unique())\n",
    "    df = process_1(data, indicator)\n",
    "    df.to_csv('../../ddf--datapoints--{}--by--geo--year.csv'.format(indicator), index=False)"
   ]
  },
  {
   "cell_type": "code",
   "execution_count": null,
   "metadata": {},
   "outputs": [],
   "source": []
  },
  {
   "cell_type": "code",
   "execution_count": null,
   "metadata": {},
   "outputs": [],
   "source": []
  },
  {
   "cell_type": "code",
   "execution_count": 31,
   "metadata": {},
   "outputs": [],
   "source": [
    "def make_dict1(sheet, unit, fuel):\n",
    "    return dict(sheet=sheet, unit=unit, fuel=fuel)"
   ]
  },
  {
   "cell_type": "code",
   "execution_count": 32,
   "metadata": {},
   "outputs": [],
   "source": [
    "#Mtoe unit is no longer used. Its in Exajoules\n",
    "\n",
    "tabs_indicator_mapping2 = {\n",
    "    'production': [\n",
    "        make_dict1(sheet='Gas Production - Bcm', unit='bcm', fuel='gas'),\n",
    "        make_dict1(sheet='Gas Production - Bcf', unit='bcf', fuel='gas'),\n",
    "        # make_dict1('Gas Production - Mtoe', 'mtoe', 'gas'),\n",
    "        make_dict1('Gas Production - EJ', 'exajoules', 'gas'),\n",
    "        make_dict1('Coal Production - Tonnes', 'tonne', 'coal'),\n",
    "        # make_dict1('Coal Production - Mtoe', 'mtoe', 'coal'),\n",
    "        make_dict1('Coal Production - EJ', 'exajoules', 'coal'),\n",
    "        \n",
    "        #The Bio Fuels sheet has multiple tables in their sheet like BioDiesel, BioGasoline so they we created\n",
    "        #another ETL biofuels_run.ipynb for it.\n",
    "        \n",
    "        #make_dict1('Biofuels Production - Kboed', 'kboed', 'biofuel'),\n",
    "        #make_dict1('Biofuels Production - Ktoe', 'ktoe', 'biofuel'),\n",
    "        make_dict1('Oil Production - Barrels', 'barrel', 'oil'),\n",
    "        make_dict1('Oil Production - Tonnes', 'tonne', 'oil')\n",
    "    ],\n",
    "    'consumption': [\n",
    "        make_dict1('Gas Consumption - Bcm', 'bcm', 'gas'),\n",
    "        make_dict1('Gas Consumption - Bcf', 'bcf', 'gas'),\n",
    "        #make_dict1('Gas Consumption - Mtoe', 'mtoe', 'gas'),\n",
    "        make_dict1('Gas Consumption - EJ', 'exajoules', 'gas'),\n",
    "        #make_dict1('Coal Consumption - Mtoe', 'mtoe', 'coal'),\n",
    "        make_dict1('Coal Consumption - EJ', 'exajoules', 'coal'),\n",
    "        #make_dict1('Nuclear Consumption - Mtoe', 'mtoe', 'nuclear'),\n",
    "        make_dict1('Nuclear Consumption - EJ', 'exajoules', 'nuclear'),\n",
    "        #make_dict1('Hydro Consumption - Mtoe', 'mtoe', 'hydro'),\n",
    "        make_dict1('Hydro Consumption - EJ', 'exajoules', 'hydro'),\n",
    "        # make_dict1('Other renewables - Mtoe', 'mtoe', 'other_renewables'),\n",
    "        #make_dict1('Solar Consumption - Mtoe', 'mtoe', 'solar'),\n",
    "        make_dict1('Solar Consumption - EJ', 'exajoules', 'solar'),\n",
    "        #make_dict1('Wind Consumption - Mtoe', 'mtoe', 'wind'),\n",
    "        make_dict1('Wind Consumption - EJ', 'exajoules', 'wind'),\n",
    "        #make_dict1('Geo Biomass Other - Mtoe', 'mtoe', 'geo_biomass_other'),\n",
    "        make_dict1('Geo Biomass Other - EJ', 'exajoules', 'geo_biomass_other'),\n",
    "        make_dict1('Oil Consumption - Barrels', 'barrel', 'oil'),\n",
    "        make_dict1('Oil Consumption - Tonnes', 'tonne', 'oil'),\n",
    "        #make_dict1('Oil Consumption - Mtoe', 'mtoe', 'oil')\n",
    "        make_dict1('Oil Consumption - EJ', 'exajoules', 'oil')\n",
    "    ],\n",
    "    'electricity_generation':[\n",
    "        make_dict1('Elec Gen from Oil', 'twh', 'oil'),\n",
    "        make_dict1('Elec Gen from Gas', 'twh', 'gas'),\n",
    "        make_dict1('Elec Gen from Coal', 'twh', 'coal'),\n",
    "        make_dict1('Elec Gen from Other', 'twh', 'other'),\n",
    "        make_dict1('Nuclear Generation - TWh', 'twh', 'nuclear'),\n",
    "        make_dict1('Hydro Generation - TWh', 'twh', 'hydro'),\n",
    "        # make_dict1('Other renewables - TWh', 'twh', 'other_renewables'),\n",
    "        make_dict1('Solar Generation - TWh', 'twh', 'solar'),\n",
    "        make_dict1('Wind Generation -TWh', 'twh', 'wind'),\n",
    "        make_dict1('Geo Biomass Other - TWh', 'twh', 'geo_biomass_other')\n",
    "    ]\n",
    "}"
   ]
  },
  {
   "cell_type": "code",
   "execution_count": null,
   "metadata": {},
   "outputs": [],
   "source": []
  },
  {
   "cell_type": "code",
   "execution_count": 33,
   "metadata": {},
   "outputs": [],
   "source": [
    "for i, ms in tabs_indicator_mapping2.items():\n",
    "    #Hisham: I made this datapoint indicator--by--geo--year.csv\n",
    "    #Previously it was datapoints--indicator--by--geo--fuel--year--unit.csv\n",
    "    for m in ms:\n",
    "        data = []\n",
    "        d = sheet_loader(source_file, sheet_name=m['sheet'])\n",
    "        d = preprocess(d)        \n",
    "        countries.append(d['geo_name'].unique())\n",
    "        indicator_name = m['fuel'] + '_' + i + '_' + m['unit']\n",
    "        d = process_1(d, indicator_name)        \n",
    "        #d['fuel'] = m['fuel']\n",
    "        #d['unit'] = m['unit']\n",
    "        data.append(d)\n",
    "        data = pd.concat(data, ignore_index=True)\n",
    "        df = data[['geo', 'year', indicator_name]]    \n",
    "        df[indicator_name] = df[indicator_name].map(number_formatter)\n",
    "        df = df.sort_values(by=['geo', 'year'])\n",
    "        \n",
    "        df.to_csv('../../ddf--datapoints--{}--by--geo--year.csv'.format(m['fuel'] + '_' + i + '_' + m['unit']), index=False)\n",
    "        \n",
    "    '''data = pd.concat(data, ignore_index=True)\n",
    "    df = data[['geo', 'fuel', 'year', 'unit', i]]    \n",
    "    df[i] = df[i].map(number_formatter)\n",
    "    df = df.sort_values(by=['fuel', 'unit', 'geo', 'year'])\n",
    "    print(df.head(100))\n",
    "    df.to_csv('../../ddf--datapoints--{}--by--geo--fuel--year--unit.csv'.format(i), index=False)'''"
   ]
  },
  {
   "cell_type": "code",
   "execution_count": null,
   "metadata": {},
   "outputs": [],
   "source": []
  },
  {
   "cell_type": "code",
   "execution_count": 34,
   "metadata": {},
   "outputs": [],
   "source": [
    "import numpy as np"
   ]
  },
  {
   "cell_type": "code",
   "execution_count": 35,
   "metadata": {
    "scrolled": false
   },
   "outputs": [],
   "source": [
    "countries = np.concatenate(countries)"
   ]
  },
  {
   "cell_type": "code",
   "execution_count": 36,
   "metadata": {},
   "outputs": [
    {
     "data": {
      "text/plain": [
       "array(['Canada', 'Mexico', 'US', ..., 'Other Asia Pacific',\n",
       "       'Total Asia Pacific', 'Total World'], dtype=object)"
      ]
     },
     "execution_count": 36,
     "metadata": {},
     "output_type": "execute_result"
    }
   ],
   "source": [
    "countries"
   ]
  },
  {
   "cell_type": "code",
   "execution_count": 37,
   "metadata": {},
   "outputs": [],
   "source": [
    "c1 = pd.DataFrame({'name': countries})"
   ]
  },
  {
   "cell_type": "code",
   "execution_count": 38,
   "metadata": {},
   "outputs": [],
   "source": [
    "c1['name'] = c1['name'].str.strip()"
   ]
  },
  {
   "cell_type": "code",
   "execution_count": 39,
   "metadata": {},
   "outputs": [],
   "source": [
    "c1 = c1.drop_duplicates(subset='name')"
   ]
  },
  {
   "cell_type": "code",
   "execution_count": 40,
   "metadata": {},
   "outputs": [],
   "source": [
    "c1['geo'] = c1['name'].map(to_concept_id)"
   ]
  },
  {
   "cell_type": "code",
   "execution_count": 41,
   "metadata": {},
   "outputs": [],
   "source": [
    "c1 = c1[['geo', 'name']].sort_values(by='geo')"
   ]
  },
  {
   "cell_type": "code",
   "execution_count": 42,
   "metadata": {
    "scrolled": false
   },
   "outputs": [
    {
     "data": {
      "text/html": [
       "<div>\n",
       "<style scoped>\n",
       "    .dataframe tbody tr th:only-of-type {\n",
       "        vertical-align: middle;\n",
       "    }\n",
       "\n",
       "    .dataframe tbody tr th {\n",
       "        vertical-align: top;\n",
       "    }\n",
       "\n",
       "    .dataframe thead th {\n",
       "        text-align: right;\n",
       "    }\n",
       "</style>\n",
       "<table border=\"1\" class=\"dataframe\">\n",
       "  <thead>\n",
       "    <tr style=\"text-align: right;\">\n",
       "      <th></th>\n",
       "      <th>geo</th>\n",
       "      <th>name</th>\n",
       "    </tr>\n",
       "  </thead>\n",
       "  <tbody>\n",
       "    <tr>\n",
       "      <th>70</th>\n",
       "      <td>algeria</td>\n",
       "      <td>Algeria</td>\n",
       "    </tr>\n",
       "    <tr>\n",
       "      <th>516</th>\n",
       "      <td>angola</td>\n",
       "      <td>Angola</td>\n",
       "    </tr>\n",
       "    <tr>\n",
       "      <th>4</th>\n",
       "      <td>argentina</td>\n",
       "      <td>Argentina</td>\n",
       "    </tr>\n",
       "    <tr>\n",
       "      <th>80</th>\n",
       "      <td>australia</td>\n",
       "      <td>Australia</td>\n",
       "    </tr>\n",
       "    <tr>\n",
       "      <th>16</th>\n",
       "      <td>austria</td>\n",
       "      <td>Austria</td>\n",
       "    </tr>\n",
       "  </tbody>\n",
       "</table>\n",
       "</div>"
      ],
      "text/plain": [
       "           geo       name\n",
       "70     algeria    Algeria\n",
       "516     angola     Angola\n",
       "4    argentina  Argentina\n",
       "80   australia  Australia\n",
       "16     austria    Austria"
      ]
     },
     "execution_count": 42,
     "metadata": {},
     "output_type": "execute_result"
    }
   ],
   "source": [
    "c1.head()"
   ]
  },
  {
   "cell_type": "code",
   "execution_count": 43,
   "metadata": {},
   "outputs": [
    {
     "data": {
      "text/html": [
       "<div>\n",
       "<style scoped>\n",
       "    .dataframe tbody tr th:only-of-type {\n",
       "        vertical-align: middle;\n",
       "    }\n",
       "\n",
       "    .dataframe tbody tr th {\n",
       "        vertical-align: top;\n",
       "    }\n",
       "\n",
       "    .dataframe thead th {\n",
       "        text-align: right;\n",
       "    }\n",
       "</style>\n",
       "<table border=\"1\" class=\"dataframe\">\n",
       "  <thead>\n",
       "    <tr style=\"text-align: right;\">\n",
       "      <th></th>\n",
       "      <th>geo</th>\n",
       "      <th>name</th>\n",
       "    </tr>\n",
       "  </thead>\n",
       "  <tbody>\n",
       "    <tr>\n",
       "      <th>36</th>\n",
       "      <td>north_macedonia</td>\n",
       "      <td>North Macedonia</td>\n",
       "    </tr>\n",
       "  </tbody>\n",
       "</table>\n",
       "</div>"
      ],
      "text/plain": [
       "                geo             name\n",
       "36  north_macedonia  North Macedonia"
      ]
     },
     "execution_count": 43,
     "metadata": {},
     "output_type": "execute_result"
    }
   ],
   "source": [
    "c1[c1['name'] == 'North Macedonia']"
   ]
  },
  {
   "cell_type": "code",
   "execution_count": null,
   "metadata": {},
   "outputs": [],
   "source": []
  },
  {
   "cell_type": "code",
   "execution_count": null,
   "metadata": {},
   "outputs": [],
   "source": []
  },
  {
   "cell_type": "code",
   "execution_count": 44,
   "metadata": {},
   "outputs": [
    {
     "name": "stdout",
     "output_type": "stream",
     "text": [
      "/bin/bash: open: command not found\r\n"
     ]
    }
   ],
   "source": [
    "!open ../../"
   ]
  },
  {
   "cell_type": "code",
   "execution_count": null,
   "metadata": {},
   "outputs": [],
   "source": []
  },
  {
   "cell_type": "code",
   "execution_count": null,
   "metadata": {},
   "outputs": [],
   "source": []
  },
  {
   "cell_type": "code",
   "execution_count": 45,
   "metadata": {},
   "outputs": [],
   "source": [
    "# Reserves by key materials"
   ]
  },
  {
   "cell_type": "code",
   "execution_count": 46,
   "metadata": {},
   "outputs": [],
   "source": [
    "def preprocess_2(data):\n",
    "    \"\"\"preprocessing the data:\n",
    "    1. rename the first column to geo_name\n",
    "    2. rename the geo_name to alphanumeric\n",
    "    3. drop all empty lines and lines after 'total world'\n",
    "\n",
    "    Note: This function only applies to the tab with country as row index\n",
    "    and year as column index.\n",
    "    \"\"\"\n",
    "    data = data.rename(columns={data.columns[0]: 'geo_name'})\n",
    "    data['geo'] = data['geo_name'].map(to_concept_id)\n",
    "    data = data.set_index('geo')\n",
    "    data = data.dropna(how='all')\n",
    "    if 'world' in data.index:\n",
    "        data = data.loc[:'world']\n",
    "    else:\n",
    "        data = data.loc[:'total_world']\n",
    "    data = data.reset_index()\n",
    "    return data\n",
    "\n",
    "def process_2(data, ddf_id):\n",
    "    data = data.dropna(axis=1, how='all')\n",
    "    data = data.drop('geo_name', axis=1)\n",
    "    idx = list(data.columns).index(2019)  # TODO\n",
    "    data = data.iloc[:, :idx + 1]  # drop columns after latest year of each sheet.\n",
    "    #data = data.drop(['2017.1', '2017.2', '2006-16'], axis=1)\n",
    "    \n",
    "    data = data.set_index('geo')\n",
    "\n",
    "    d = data.T.unstack()\n",
    "    d = d.dropna()\n",
    "    d = d.reset_index()\n",
    "    d.columns = ['geo', 'year', ddf_id]\n",
    "\n",
    "    return d.sort_values(by=['geo', 'year'])"
   ]
  },
  {
   "cell_type": "code",
   "execution_count": 47,
   "metadata": {},
   "outputs": [],
   "source": [
    "countries2 = []"
   ]
  },
  {
   "cell_type": "code",
   "execution_count": 48,
   "metadata": {},
   "outputs": [],
   "source": [
    "def create_datapoint_2(data_tabs, fuels, indicator):\n",
    "    data = []\n",
    "\n",
    "    for t, f in zip(data_tabs, fuels):\n",
    "        d = sheet_loader(source_file, sheet_name=t)\n",
    "        d = preprocess_2(d)\n",
    "        countries2.append(d['geo_name'].unique())\n",
    "        d = process_2(d, indicator)\n",
    "        d['material'] = f\n",
    "        data.append(d)\n",
    "    data = pd.concat(data, ignore_index=True)\n",
    "    df = data[['geo', 'material', 'year', indicator]]\n",
    "    df[indicator] = df[indicator].map(number_formatter)\n",
    "    # df.to_csv('../../ddf--datapoints--{}--by--geo--mineral--year.csv'.format(indicator), index=False)\n",
    "    \n",
    "    return df"
   ]
  },
  {
   "cell_type": "code",
   "execution_count": 49,
   "metadata": {},
   "outputs": [],
   "source": [
    "data_tabs = ['Cobalt Production-Reserves', \n",
    "             'Lithium Production-Reserves',\n",
    "             'Graphite Production-Reserves',\n",
    "             'Rare Earth Production-Reserves'\n",
    "            ]\n",
    "fuels  = ['cobalt', 'lithium', 'graphite', 'rare_earth']\n",
    "indicator = 'production_reserve'"
   ]
  },
  {
   "cell_type": "code",
   "execution_count": 50,
   "metadata": {
    "scrolled": false
   },
   "outputs": [],
   "source": [
    "df = create_datapoint_2(data_tabs, fuels, indicator)"
   ]
  },
  {
   "cell_type": "code",
   "execution_count": null,
   "metadata": {},
   "outputs": [],
   "source": []
  },
  {
   "cell_type": "code",
   "execution_count": 51,
   "metadata": {},
   "outputs": [],
   "source": [
    "countries2 = np.concatenate(countries2)"
   ]
  },
  {
   "cell_type": "code",
   "execution_count": 52,
   "metadata": {},
   "outputs": [],
   "source": [
    "c2 = pd.DataFrame({'name': countries2})"
   ]
  },
  {
   "cell_type": "code",
   "execution_count": 53,
   "metadata": {},
   "outputs": [],
   "source": [
    "c2['name'] = c2['name'].str.strip()"
   ]
  },
  {
   "cell_type": "code",
   "execution_count": 54,
   "metadata": {},
   "outputs": [],
   "source": [
    "c2 = c2.drop_duplicates(subset='name')"
   ]
  },
  {
   "cell_type": "code",
   "execution_count": 55,
   "metadata": {},
   "outputs": [],
   "source": [
    "c2['geo'] = c2['name'].map(to_concept_id)"
   ]
  },
  {
   "cell_type": "code",
   "execution_count": 56,
   "metadata": {},
   "outputs": [
    {
     "data": {
      "text/html": [
       "<div>\n",
       "<style scoped>\n",
       "    .dataframe tbody tr th:only-of-type {\n",
       "        vertical-align: middle;\n",
       "    }\n",
       "\n",
       "    .dataframe tbody tr th {\n",
       "        vertical-align: top;\n",
       "    }\n",
       "\n",
       "    .dataframe thead th {\n",
       "        text-align: right;\n",
       "    }\n",
       "</style>\n",
       "<table border=\"1\" class=\"dataframe\">\n",
       "  <thead>\n",
       "    <tr style=\"text-align: right;\">\n",
       "      <th></th>\n",
       "      <th>name</th>\n",
       "      <th>geo</th>\n",
       "    </tr>\n",
       "  </thead>\n",
       "  <tbody>\n",
       "    <tr>\n",
       "      <th>2</th>\n",
       "      <td>DR Congo</td>\n",
       "      <td>dr_congo</td>\n",
       "    </tr>\n",
       "    <tr>\n",
       "      <th>3</th>\n",
       "      <td>Cuba</td>\n",
       "      <td>cuba</td>\n",
       "    </tr>\n",
       "    <tr>\n",
       "      <th>4</th>\n",
       "      <td>Madagascar</td>\n",
       "      <td>madagascar</td>\n",
       "    </tr>\n",
       "    <tr>\n",
       "      <th>6</th>\n",
       "      <td>New Caledonia</td>\n",
       "      <td>new_caledonia</td>\n",
       "    </tr>\n",
       "    <tr>\n",
       "      <th>11</th>\n",
       "      <td>Zambia</td>\n",
       "      <td>zambia</td>\n",
       "    </tr>\n",
       "    <tr>\n",
       "      <th>12</th>\n",
       "      <td>Rest of World</td>\n",
       "      <td>rest_of_world</td>\n",
       "    </tr>\n",
       "    <tr>\n",
       "      <th>24</th>\n",
       "      <td>Brazil1</td>\n",
       "      <td>brazil1</td>\n",
       "    </tr>\n",
       "    <tr>\n",
       "      <th>27</th>\n",
       "      <td>India2</td>\n",
       "      <td>india2</td>\n",
       "    </tr>\n",
       "    <tr>\n",
       "      <th>30</th>\n",
       "      <td>Mozambique</td>\n",
       "      <td>mozambique</td>\n",
       "    </tr>\n",
       "    <tr>\n",
       "      <th>35</th>\n",
       "      <td>Rest of World3</td>\n",
       "      <td>rest_of_world3</td>\n",
       "    </tr>\n",
       "    <tr>\n",
       "      <th>45</th>\n",
       "      <td>Rest of World2</td>\n",
       "      <td>rest_of_world2</td>\n",
       "    </tr>\n",
       "  </tbody>\n",
       "</table>\n",
       "</div>"
      ],
      "text/plain": [
       "              name             geo\n",
       "2         DR Congo        dr_congo\n",
       "3             Cuba            cuba\n",
       "4       Madagascar      madagascar\n",
       "6    New Caledonia   new_caledonia\n",
       "11          Zambia          zambia\n",
       "12   Rest of World   rest_of_world\n",
       "24         Brazil1         brazil1\n",
       "27          India2          india2\n",
       "30      Mozambique      mozambique\n",
       "35  Rest of World3  rest_of_world3\n",
       "45  Rest of World2  rest_of_world2"
      ]
     },
     "execution_count": 56,
     "metadata": {},
     "output_type": "execute_result"
    }
   ],
   "source": [
    "c2[~c2.geo.isin(c1.geo)]"
   ]
  },
  {
   "cell_type": "code",
   "execution_count": null,
   "metadata": {},
   "outputs": [],
   "source": []
  },
  {
   "cell_type": "code",
   "execution_count": 57,
   "metadata": {},
   "outputs": [],
   "source": [
    "df.loc[df.geo == 'brazil1', 'geo'] = 'brazil'\n",
    "df.loc[df.geo == 'india2', 'geo'] = 'india'\n",
    "df.loc[df.geo == 'rest_of_world2', 'geo'] = 'rest_of_world'\n",
    "df.loc[df.geo == 'rest_of_world3', 'geo'] = 'rest_of_world'"
   ]
  },
  {
   "cell_type": "code",
   "execution_count": 58,
   "metadata": {},
   "outputs": [],
   "source": [
    "df.loc[df.geo == 'world', 'geo'] = 'total_world'"
   ]
  },
  {
   "cell_type": "code",
   "execution_count": 59,
   "metadata": {},
   "outputs": [],
   "source": [
    "# df = df[~df.geo.isin(['rest_of_world'])]"
   ]
  },
  {
   "cell_type": "code",
   "execution_count": null,
   "metadata": {},
   "outputs": [],
   "source": []
  },
  {
   "cell_type": "code",
   "execution_count": 60,
   "metadata": {},
   "outputs": [
    {
     "data": {
      "text/html": [
       "<div>\n",
       "<style scoped>\n",
       "    .dataframe tbody tr th:only-of-type {\n",
       "        vertical-align: middle;\n",
       "    }\n",
       "\n",
       "    .dataframe tbody tr th {\n",
       "        vertical-align: top;\n",
       "    }\n",
       "\n",
       "    .dataframe thead th {\n",
       "        text-align: right;\n",
       "    }\n",
       "</style>\n",
       "<table border=\"1\" class=\"dataframe\">\n",
       "  <thead>\n",
       "    <tr style=\"text-align: right;\">\n",
       "      <th></th>\n",
       "      <th>geo</th>\n",
       "      <th>material</th>\n",
       "      <th>year</th>\n",
       "      <th>production_reserve</th>\n",
       "    </tr>\n",
       "  </thead>\n",
       "  <tbody>\n",
       "    <tr>\n",
       "      <th>785</th>\n",
       "      <td>sri_lanka</td>\n",
       "      <td>graphite</td>\n",
       "      <td>2007</td>\n",
       "      <td>9.593</td>\n",
       "    </tr>\n",
       "    <tr>\n",
       "      <th>534</th>\n",
       "      <td>us</td>\n",
       "      <td>lithium</td>\n",
       "      <td>2014</td>\n",
       "      <td>0.9</td>\n",
       "    </tr>\n",
       "    <tr>\n",
       "      <th>927</th>\n",
       "      <td>china</td>\n",
       "      <td>rare_earth</td>\n",
       "      <td>2015</td>\n",
       "      <td>105</td>\n",
       "    </tr>\n",
       "    <tr>\n",
       "      <th>1056</th>\n",
       "      <td>total_world</td>\n",
       "      <td>rare_earth</td>\n",
       "      <td>2017</td>\n",
       "      <td>129.815</td>\n",
       "    </tr>\n",
       "    <tr>\n",
       "      <th>624</th>\n",
       "      <td>china</td>\n",
       "      <td>graphite</td>\n",
       "      <td>2004</td>\n",
       "      <td>700</td>\n",
       "    </tr>\n",
       "    <tr>\n",
       "      <th>76</th>\n",
       "      <td>dr_congo</td>\n",
       "      <td>cobalt</td>\n",
       "      <td>1996</td>\n",
       "      <td>2</td>\n",
       "    </tr>\n",
       "    <tr>\n",
       "      <th>376</th>\n",
       "      <td>brazil</td>\n",
       "      <td>lithium</td>\n",
       "      <td>2004</td>\n",
       "      <td>0.242</td>\n",
       "    </tr>\n",
       "    <tr>\n",
       "      <th>274</th>\n",
       "      <td>total_world</td>\n",
       "      <td>cobalt</td>\n",
       "      <td>2002</td>\n",
       "      <td>44.904</td>\n",
       "    </tr>\n",
       "    <tr>\n",
       "      <th>589</th>\n",
       "      <td>brazil</td>\n",
       "      <td>graphite</td>\n",
       "      <td>2019</td>\n",
       "      <td>96</td>\n",
       "    </tr>\n",
       "    <tr>\n",
       "      <th>718</th>\n",
       "      <td>mozambique</td>\n",
       "      <td>graphite</td>\n",
       "      <td>1998</td>\n",
       "      <td>5.889</td>\n",
       "    </tr>\n",
       "  </tbody>\n",
       "</table>\n",
       "</div>"
      ],
      "text/plain": [
       "              geo    material  year production_reserve\n",
       "785     sri_lanka    graphite  2007              9.593\n",
       "534            us     lithium  2014                0.9\n",
       "927         china  rare_earth  2015                105\n",
       "1056  total_world  rare_earth  2017            129.815\n",
       "624         china    graphite  2004                700\n",
       "76       dr_congo      cobalt  1996                  2\n",
       "376        brazil     lithium  2004              0.242\n",
       "274   total_world      cobalt  2002             44.904\n",
       "589        brazil    graphite  2019                 96\n",
       "718    mozambique    graphite  1998              5.889"
      ]
     },
     "execution_count": 60,
     "metadata": {},
     "output_type": "execute_result"
    }
   ],
   "source": [
    "df.sample(10)"
   ]
  },
  {
   "cell_type": "code",
   "execution_count": 61,
   "metadata": {},
   "outputs": [
    {
     "data": {
      "text/plain": [
       "array(['australia', 'canada', 'cuba', 'dr_congo', 'madagascar', 'morocco',\n",
       "       'new_caledonia', 'papua_new_guinea', 'philippines',\n",
       "       'rest_of_world', 'russian_federation', 'south_africa',\n",
       "       'total_world', 'zambia', 'argentina', 'brazil', 'chile', 'china',\n",
       "       'portugal', 'us', 'zimbabwe', 'india', 'mexico', 'mozambique',\n",
       "       'sri_lanka', 'ukraine', 'malaysia', 'thailand'], dtype=object)"
      ]
     },
     "execution_count": 61,
     "metadata": {},
     "output_type": "execute_result"
    }
   ],
   "source": [
    "df.geo.unique() "
   ]
  },
  {
   "cell_type": "code",
   "execution_count": 62,
   "metadata": {},
   "outputs": [],
   "source": [
    "(df.sort_values(by=['material', 'geo', 'year'])\n",
    " .to_csv('../../ddf--datapoints--production_reserve--by--geo--material--year.csv', index=False))"
   ]
  },
  {
   "cell_type": "code",
   "execution_count": null,
   "metadata": {},
   "outputs": [],
   "source": []
  },
  {
   "cell_type": "code",
   "execution_count": 63,
   "metadata": {},
   "outputs": [],
   "source": [
    "sheet_loader2 = partial(pd.read_excel, skiprows=3)"
   ]
  },
  {
   "cell_type": "code",
   "execution_count": 64,
   "metadata": {},
   "outputs": [],
   "source": [
    "countries3 = []"
   ]
  },
  {
   "cell_type": "code",
   "execution_count": 65,
   "metadata": {},
   "outputs": [],
   "source": [
    "def create_datapoint_3(data_tabs, fuels, indicator):\n",
    "    data = []\n",
    "\n",
    "    for t, f in zip(data_tabs, fuels):\n",
    "        d = sheet_loader2(source_file, sheet_name=t)\n",
    "        d = preprocess_2(d)\n",
    "        countries3.append(d['geo_name'].unique())\n",
    "        d = process_2(d, indicator)\n",
    "        d['renewable'] = f\n",
    "        data.append(d)\n",
    "    data = pd.concat(data, ignore_index=True)\n",
    "    df = data[['geo', 'renewable', 'year', indicator]]\n",
    "    df[indicator] = df[indicator].map(number_formatter)\n",
    "    # df.to_csv('../../ddf--datapoints--{}--by--geo--mineral--year.csv'.format(indicator), index=False)\n",
    "    \n",
    "    return df"
   ]
  },
  {
   "cell_type": "code",
   "execution_count": null,
   "metadata": {},
   "outputs": [],
   "source": []
  },
  {
   "cell_type": "code",
   "execution_count": null,
   "metadata": {},
   "outputs": [],
   "source": []
  },
  {
   "cell_type": "code",
   "execution_count": 66,
   "metadata": {},
   "outputs": [],
   "source": [
    "data_tabs = ['Geothermal Capacity', \n",
    "             'Solar Capacity',\n",
    "             'Wind Capacity'\n",
    "            ]\n",
    "fuels  = ['geothermal', 'solar', 'wind']\n",
    "indicator = 'installed_capacity'"
   ]
  },
  {
   "cell_type": "code",
   "execution_count": 67,
   "metadata": {},
   "outputs": [],
   "source": [
    "df = create_datapoint_3(data_tabs, fuels, indicator)"
   ]
  },
  {
   "cell_type": "code",
   "execution_count": 68,
   "metadata": {},
   "outputs": [
    {
     "data": {
      "text/html": [
       "<div>\n",
       "<style scoped>\n",
       "    .dataframe tbody tr th:only-of-type {\n",
       "        vertical-align: middle;\n",
       "    }\n",
       "\n",
       "    .dataframe tbody tr th {\n",
       "        vertical-align: top;\n",
       "    }\n",
       "\n",
       "    .dataframe thead th {\n",
       "        text-align: right;\n",
       "    }\n",
       "</style>\n",
       "<table border=\"1\" class=\"dataframe\">\n",
       "  <thead>\n",
       "    <tr style=\"text-align: right;\">\n",
       "      <th></th>\n",
       "      <th>geo</th>\n",
       "      <th>renewable</th>\n",
       "      <th>year</th>\n",
       "      <th>installed_capacity</th>\n",
       "    </tr>\n",
       "  </thead>\n",
       "  <tbody>\n",
       "    <tr>\n",
       "      <th>2999</th>\n",
       "      <td>romania</td>\n",
       "      <td>wind</td>\n",
       "      <td>2012</td>\n",
       "      <td>1822</td>\n",
       "    </tr>\n",
       "    <tr>\n",
       "      <th>3431</th>\n",
       "      <td>united_kingdom</td>\n",
       "      <td>wind</td>\n",
       "      <td>2014</td>\n",
       "      <td>13074</td>\n",
       "    </tr>\n",
       "    <tr>\n",
       "      <th>3104</th>\n",
       "      <td>sweden</td>\n",
       "      <td>wind</td>\n",
       "      <td>2005</td>\n",
       "      <td>522</td>\n",
       "    </tr>\n",
       "    <tr>\n",
       "      <th>2353</th>\n",
       "      <td>costa_rica</td>\n",
       "      <td>wind</td>\n",
       "      <td>2004</td>\n",
       "      <td>68.6</td>\n",
       "    </tr>\n",
       "    <tr>\n",
       "      <th>2728</th>\n",
       "      <td>new_zealand</td>\n",
       "      <td>wind</td>\n",
       "      <td>2014</td>\n",
       "      <td>682</td>\n",
       "    </tr>\n",
       "    <tr>\n",
       "      <th>2537</th>\n",
       "      <td>iran</td>\n",
       "      <td>wind</td>\n",
       "      <td>2004</td>\n",
       "      <td>24.9</td>\n",
       "    </tr>\n",
       "    <tr>\n",
       "      <th>354</th>\n",
       "      <td>new_zealand</td>\n",
       "      <td>geothermal</td>\n",
       "      <td>2002</td>\n",
       "      <td>373</td>\n",
       "    </tr>\n",
       "    <tr>\n",
       "      <th>3126</th>\n",
       "      <td>taiwan</td>\n",
       "      <td>wind</td>\n",
       "      <td>2004</td>\n",
       "      <td>8.5</td>\n",
       "    </tr>\n",
       "    <tr>\n",
       "      <th>1178</th>\n",
       "      <td>india</td>\n",
       "      <td>solar</td>\n",
       "      <td>2019</td>\n",
       "      <td>35059.884</td>\n",
       "    </tr>\n",
       "    <tr>\n",
       "      <th>2526</th>\n",
       "      <td>india</td>\n",
       "      <td>wind</td>\n",
       "      <td>2016</td>\n",
       "      <td>28700.44</td>\n",
       "    </tr>\n",
       "  </tbody>\n",
       "</table>\n",
       "</div>"
      ],
      "text/plain": [
       "                 geo   renewable  year installed_capacity\n",
       "2999         romania        wind  2012               1822\n",
       "3431  united_kingdom        wind  2014              13074\n",
       "3104          sweden        wind  2005                522\n",
       "2353      costa_rica        wind  2004               68.6\n",
       "2728     new_zealand        wind  2014                682\n",
       "2537            iran        wind  2004               24.9\n",
       "354      new_zealand  geothermal  2002                373\n",
       "3126          taiwan        wind  2004                8.5\n",
       "1178           india       solar  2019          35059.884\n",
       "2526           india        wind  2016           28700.44"
      ]
     },
     "execution_count": 68,
     "metadata": {},
     "output_type": "execute_result"
    }
   ],
   "source": [
    "df.sample(10)"
   ]
  },
  {
   "cell_type": "code",
   "execution_count": null,
   "metadata": {},
   "outputs": [],
   "source": []
  },
  {
   "cell_type": "code",
   "execution_count": 69,
   "metadata": {},
   "outputs": [],
   "source": [
    "c3 = np.concatenate(countries3)"
   ]
  },
  {
   "cell_type": "code",
   "execution_count": 70,
   "metadata": {},
   "outputs": [],
   "source": [
    "c3 = pd.DataFrame({'name': c3})"
   ]
  },
  {
   "cell_type": "code",
   "execution_count": 71,
   "metadata": {},
   "outputs": [],
   "source": [
    "c3['name'] = c3['name'].str.strip()"
   ]
  },
  {
   "cell_type": "code",
   "execution_count": 72,
   "metadata": {},
   "outputs": [],
   "source": [
    "c3 = c3.drop_duplicates(subset='name')\n",
    "c3['geo'] = c3['name'].map(to_concept_id)"
   ]
  },
  {
   "cell_type": "code",
   "execution_count": 73,
   "metadata": {},
   "outputs": [
    {
     "name": "stdout",
     "output_type": "stream",
     "text": [
      "geo,name\n",
      "costa_rica,Costa Rica\n",
      "el_salvador,El Salvador\n",
      "guatemala,Guatemala\n",
      "honduras,Honduras\n",
      "nicaragua,Nicaragua\n",
      "other_s_and_cent_america,Other S. and Cent. America\n",
      "ethiopia,Ethiopia\n",
      "kenya,Kenya\n",
      "jordan,Jordan\n",
      "uruguay,Uruguay\n",
      "\n"
     ]
    }
   ],
   "source": [
    "print(c3[~c3.geo.isin(c1.geo)][['geo', 'name']].to_csv(index=False))"
   ]
  },
  {
   "cell_type": "code",
   "execution_count": null,
   "metadata": {},
   "outputs": [],
   "source": []
  },
  {
   "cell_type": "code",
   "execution_count": 74,
   "metadata": {},
   "outputs": [],
   "source": [
    "df.loc[df.geo == 'russian_fed', 'geo'] = 'russian_federation'"
   ]
  },
  {
   "cell_type": "code",
   "execution_count": 75,
   "metadata": {},
   "outputs": [],
   "source": [
    "(df.sort_values(by=['renewable', 'geo', 'year'])\n",
    " .to_csv('../../ddf--datapoints--{}--by--geo--renewable--year.csv'.format(indicator), index=False))"
   ]
  },
  {
   "cell_type": "code",
   "execution_count": null,
   "metadata": {},
   "outputs": [],
   "source": []
  },
  {
   "cell_type": "code",
   "execution_count": null,
   "metadata": {},
   "outputs": [],
   "source": []
  },
  {
   "cell_type": "code",
   "execution_count": 76,
   "metadata": {},
   "outputs": [],
   "source": [
    "m2 = {'brazil1': 'brazil', 'india2': 'india', \n",
    "      'rest_of_world2': 'rest_of_world', \n",
    "      'rest_of_world3': 'rest_of_world'}\n",
    "c2['geo'] = c2['geo'].map(partial(apply_map, m=m2))"
   ]
  },
  {
   "cell_type": "code",
   "execution_count": 77,
   "metadata": {},
   "outputs": [],
   "source": [
    "m3 = {'russian_fed': 'russian_federation'}\n",
    "c3['geo'] = c3['geo'].map(partial(apply_map, m=m3))"
   ]
  },
  {
   "cell_type": "code",
   "execution_count": 78,
   "metadata": {},
   "outputs": [],
   "source": [
    "geo_ent = pd.concat([c1, c2, c3], ignore_index=True, sort=True)"
   ]
  },
  {
   "cell_type": "code",
   "execution_count": 79,
   "metadata": {},
   "outputs": [
    {
     "data": {
      "text/html": [
       "<div>\n",
       "<style scoped>\n",
       "    .dataframe tbody tr th:only-of-type {\n",
       "        vertical-align: middle;\n",
       "    }\n",
       "\n",
       "    .dataframe tbody tr th {\n",
       "        vertical-align: top;\n",
       "    }\n",
       "\n",
       "    .dataframe thead th {\n",
       "        text-align: right;\n",
       "    }\n",
       "</style>\n",
       "<table border=\"1\" class=\"dataframe\">\n",
       "  <thead>\n",
       "    <tr style=\"text-align: right;\">\n",
       "      <th></th>\n",
       "      <th>geo</th>\n",
       "      <th>name</th>\n",
       "    </tr>\n",
       "  </thead>\n",
       "  <tbody>\n",
       "    <tr>\n",
       "      <th>62</th>\n",
       "      <td>north_macedonia</td>\n",
       "      <td>North Macedonia</td>\n",
       "    </tr>\n",
       "  </tbody>\n",
       "</table>\n",
       "</div>"
      ],
      "text/plain": [
       "                geo             name\n",
       "62  north_macedonia  North Macedonia"
      ]
     },
     "execution_count": 79,
     "metadata": {},
     "output_type": "execute_result"
    }
   ],
   "source": [
    "geo_ent[geo_ent['name'] == 'North Macedonia']"
   ]
  },
  {
   "cell_type": "code",
   "execution_count": 80,
   "metadata": {},
   "outputs": [],
   "source": [
    "(geo_ent\n",
    " .drop_duplicates(subset='geo')\n",
    " .sort_values(by='name')\n",
    " .to_csv('../../ddf--entities--geo.csv', index=False))"
   ]
  },
  {
   "cell_type": "code",
   "execution_count": null,
   "metadata": {},
   "outputs": [],
   "source": []
  },
  {
   "cell_type": "code",
   "execution_count": null,
   "metadata": {},
   "outputs": [],
   "source": []
  },
  {
   "cell_type": "code",
   "execution_count": null,
   "metadata": {},
   "outputs": [],
   "source": []
  },
  {
   "cell_type": "code",
   "execution_count": 81,
   "metadata": {},
   "outputs": [],
   "source": [
    "units = ['Bcm', 'Bcf', 'Exajoules', 'Barrel', 'Tonne', 'TWh', 'Kboed', 'Petajoules']"
   ]
  },
  {
   "cell_type": "code",
   "execution_count": 82,
   "metadata": {},
   "outputs": [],
   "source": [
    "units_df = pd.DataFrame({'unit': list(map(to_concept_id, units)), 'name': units})"
   ]
  },
  {
   "cell_type": "code",
   "execution_count": 83,
   "metadata": {},
   "outputs": [
    {
     "data": {
      "text/html": [
       "<div>\n",
       "<style scoped>\n",
       "    .dataframe tbody tr th:only-of-type {\n",
       "        vertical-align: middle;\n",
       "    }\n",
       "\n",
       "    .dataframe tbody tr th {\n",
       "        vertical-align: top;\n",
       "    }\n",
       "\n",
       "    .dataframe thead th {\n",
       "        text-align: right;\n",
       "    }\n",
       "</style>\n",
       "<table border=\"1\" class=\"dataframe\">\n",
       "  <thead>\n",
       "    <tr style=\"text-align: right;\">\n",
       "      <th></th>\n",
       "      <th>unit</th>\n",
       "      <th>name</th>\n",
       "    </tr>\n",
       "  </thead>\n",
       "  <tbody>\n",
       "    <tr>\n",
       "      <th>0</th>\n",
       "      <td>bcm</td>\n",
       "      <td>Bcm</td>\n",
       "    </tr>\n",
       "    <tr>\n",
       "      <th>1</th>\n",
       "      <td>bcf</td>\n",
       "      <td>Bcf</td>\n",
       "    </tr>\n",
       "    <tr>\n",
       "      <th>2</th>\n",
       "      <td>exajoules</td>\n",
       "      <td>Exajoules</td>\n",
       "    </tr>\n",
       "    <tr>\n",
       "      <th>3</th>\n",
       "      <td>barrel</td>\n",
       "      <td>Barrel</td>\n",
       "    </tr>\n",
       "    <tr>\n",
       "      <th>4</th>\n",
       "      <td>tonne</td>\n",
       "      <td>Tonne</td>\n",
       "    </tr>\n",
       "    <tr>\n",
       "      <th>5</th>\n",
       "      <td>twh</td>\n",
       "      <td>TWh</td>\n",
       "    </tr>\n",
       "    <tr>\n",
       "      <th>6</th>\n",
       "      <td>kboed</td>\n",
       "      <td>Kboed</td>\n",
       "    </tr>\n",
       "    <tr>\n",
       "      <th>7</th>\n",
       "      <td>petajoules</td>\n",
       "      <td>Petajoules</td>\n",
       "    </tr>\n",
       "  </tbody>\n",
       "</table>\n",
       "</div>"
      ],
      "text/plain": [
       "         unit        name\n",
       "0         bcm         Bcm\n",
       "1         bcf         Bcf\n",
       "2   exajoules   Exajoules\n",
       "3      barrel      Barrel\n",
       "4       tonne       Tonne\n",
       "5         twh         TWh\n",
       "6       kboed       Kboed\n",
       "7  petajoules  Petajoules"
      ]
     },
     "execution_count": 83,
     "metadata": {},
     "output_type": "execute_result"
    }
   ],
   "source": [
    "units_df"
   ]
  },
  {
   "cell_type": "code",
   "execution_count": 84,
   "metadata": {},
   "outputs": [],
   "source": [
    "units_df.to_csv('../../ddf--entities--unit.csv', index=False)"
   ]
  },
  {
   "cell_type": "code",
   "execution_count": 85,
   "metadata": {},
   "outputs": [],
   "source": [
    "# "
   ]
  },
  {
   "cell_type": "code",
   "execution_count": 86,
   "metadata": {},
   "outputs": [],
   "source": [
    "!cp fuel.csv ../../ddf--entities--fuel.csv"
   ]
  },
  {
   "cell_type": "code",
   "execution_count": null,
   "metadata": {},
   "outputs": [],
   "source": []
  },
  {
   "cell_type": "code",
   "execution_count": 87,
   "metadata": {},
   "outputs": [],
   "source": [
    "materials = pd.DataFrame({'material': ['cobalt', 'lithium', 'graphite', 'rare_earth'], \n",
    "                     'name': ['Cobalt', 'Lithium', 'Graphite', 'Rare Earth']})"
   ]
  },
  {
   "cell_type": "code",
   "execution_count": 88,
   "metadata": {},
   "outputs": [],
   "source": [
    "materials.to_csv('../../ddf--entities--material.csv', index=False)"
   ]
  },
  {
   "cell_type": "code",
   "execution_count": null,
   "metadata": {},
   "outputs": [],
   "source": []
  },
  {
   "cell_type": "code",
   "execution_count": 89,
   "metadata": {},
   "outputs": [],
   "source": [
    "conc1 = []\n",
    "conc1_name = []\n",
    "\n",
    "for n, i in tabs_indicator_mapping1.items():\n",
    "    conc1.append(i)\n",
    "    conc1_name.append(n)"
   ]
  },
  {
   "cell_type": "code",
   "execution_count": 90,
   "metadata": {},
   "outputs": [],
   "source": [
    "concs2 = ['fuel_production', 'fuel_consumption', 'electricity_generation', 'production_reserve', 'installed_capacity']\n",
    "concs2_name = ['Fuel Production', 'Fuel Consumption', 'Electricity Generation', 'Production Reserve', 'Installed Capacity']"
   ]
  },
  {
   "cell_type": "code",
   "execution_count": 91,
   "metadata": {},
   "outputs": [],
   "source": [
    "concs = [*conc1, *concs2]\n",
    "concs_name = [*conc1_name, *concs2_name]"
   ]
  },
  {
   "cell_type": "code",
   "execution_count": 92,
   "metadata": {},
   "outputs": [
    {
     "data": {
      "text/plain": [
       "['primary_energy_consumption',\n",
       " 'primary_energy_consumption_per_capita',\n",
       " 'carbon_dioxide_emissions',\n",
       " 'oil_refinery_throughput',\n",
       " 'oil_refining_capacity',\n",
       " 'oil_proved_reserves',\n",
       " 'gas_proved_reserves',\n",
       " 'electricity_generation',\n",
       " 'fuel_production',\n",
       " 'fuel_consumption',\n",
       " 'electricity_generation',\n",
       " 'production_reserve',\n",
       " 'installed_capacity']"
      ]
     },
     "execution_count": 92,
     "metadata": {},
     "output_type": "execute_result"
    }
   ],
   "source": [
    "concs"
   ]
  },
  {
   "cell_type": "code",
   "execution_count": 93,
   "metadata": {},
   "outputs": [],
   "source": [
    "measures = pd.DataFrame({'concept': concs, 'name': concs_name})"
   ]
  },
  {
   "cell_type": "code",
   "execution_count": 94,
   "metadata": {},
   "outputs": [],
   "source": [
    "measures['concept_type'] = 'measure'"
   ]
  },
  {
   "cell_type": "code",
   "execution_count": 95,
   "metadata": {},
   "outputs": [],
   "source": [
    "measures = measures.drop_duplicates(subset='concept')"
   ]
  },
  {
   "cell_type": "code",
   "execution_count": 96,
   "metadata": {},
   "outputs": [],
   "source": [
    "measures.to_csv('../../ddf--concepts--continuous.csv', index=False)"
   ]
  },
  {
   "cell_type": "code",
   "execution_count": null,
   "metadata": {},
   "outputs": [],
   "source": []
  },
  {
   "cell_type": "code",
   "execution_count": 97,
   "metadata": {},
   "outputs": [],
   "source": [
    "disc = pd.DataFrame([\n",
    "    ['name', 'Name', 'string', ''],\n",
    "    ['year', 'Year', 'time', ''],\n",
    "    ['geo', 'Geo', 'entity_domain', ''],\n",
    "    ['unit', 'Unit', 'entity_domain', ''],\n",
    "    ['fuel', 'Fuel', 'entity_domain', ''],\n",
    "    ['renewable', 'Renewables', 'entity_set', 'fuel'],\n",
    "    ['material', 'Material', 'entity_domain', ''],\n",
    "    ['domain', 'Domain', 'string', '']\n",
    "], columns=['concept', 'name', 'concept_type', 'domain'])"
   ]
  },
  {
   "cell_type": "code",
   "execution_count": 98,
   "metadata": {},
   "outputs": [
    {
     "data": {
      "text/html": [
       "<div>\n",
       "<style scoped>\n",
       "    .dataframe tbody tr th:only-of-type {\n",
       "        vertical-align: middle;\n",
       "    }\n",
       "\n",
       "    .dataframe tbody tr th {\n",
       "        vertical-align: top;\n",
       "    }\n",
       "\n",
       "    .dataframe thead th {\n",
       "        text-align: right;\n",
       "    }\n",
       "</style>\n",
       "<table border=\"1\" class=\"dataframe\">\n",
       "  <thead>\n",
       "    <tr style=\"text-align: right;\">\n",
       "      <th></th>\n",
       "      <th>concept</th>\n",
       "      <th>name</th>\n",
       "      <th>concept_type</th>\n",
       "      <th>domain</th>\n",
       "    </tr>\n",
       "  </thead>\n",
       "  <tbody>\n",
       "    <tr>\n",
       "      <th>0</th>\n",
       "      <td>name</td>\n",
       "      <td>Name</td>\n",
       "      <td>string</td>\n",
       "      <td></td>\n",
       "    </tr>\n",
       "    <tr>\n",
       "      <th>1</th>\n",
       "      <td>year</td>\n",
       "      <td>Year</td>\n",
       "      <td>time</td>\n",
       "      <td></td>\n",
       "    </tr>\n",
       "    <tr>\n",
       "      <th>2</th>\n",
       "      <td>geo</td>\n",
       "      <td>Geo</td>\n",
       "      <td>entity_domain</td>\n",
       "      <td></td>\n",
       "    </tr>\n",
       "    <tr>\n",
       "      <th>3</th>\n",
       "      <td>unit</td>\n",
       "      <td>Unit</td>\n",
       "      <td>entity_domain</td>\n",
       "      <td></td>\n",
       "    </tr>\n",
       "    <tr>\n",
       "      <th>4</th>\n",
       "      <td>fuel</td>\n",
       "      <td>Fuel</td>\n",
       "      <td>entity_domain</td>\n",
       "      <td></td>\n",
       "    </tr>\n",
       "    <tr>\n",
       "      <th>5</th>\n",
       "      <td>renewable</td>\n",
       "      <td>Renewables</td>\n",
       "      <td>entity_set</td>\n",
       "      <td>fuel</td>\n",
       "    </tr>\n",
       "    <tr>\n",
       "      <th>6</th>\n",
       "      <td>material</td>\n",
       "      <td>Material</td>\n",
       "      <td>entity_domain</td>\n",
       "      <td></td>\n",
       "    </tr>\n",
       "    <tr>\n",
       "      <th>7</th>\n",
       "      <td>domain</td>\n",
       "      <td>Domain</td>\n",
       "      <td>string</td>\n",
       "      <td></td>\n",
       "    </tr>\n",
       "  </tbody>\n",
       "</table>\n",
       "</div>"
      ],
      "text/plain": [
       "     concept        name   concept_type domain\n",
       "0       name        Name         string       \n",
       "1       year        Year           time       \n",
       "2        geo         Geo  entity_domain       \n",
       "3       unit        Unit  entity_domain       \n",
       "4       fuel        Fuel  entity_domain       \n",
       "5  renewable  Renewables     entity_set   fuel\n",
       "6   material    Material  entity_domain       \n",
       "7     domain      Domain         string       "
      ]
     },
     "execution_count": 98,
     "metadata": {},
     "output_type": "execute_result"
    }
   ],
   "source": [
    "disc"
   ]
  },
  {
   "cell_type": "code",
   "execution_count": 99,
   "metadata": {},
   "outputs": [],
   "source": [
    "disc.to_csv('../../ddf--concepts--discrete.csv', index=False)"
   ]
  },
  {
   "cell_type": "code",
   "execution_count": null,
   "metadata": {},
   "outputs": [],
   "source": []
  },
  {
   "cell_type": "code",
   "execution_count": null,
   "metadata": {},
   "outputs": [],
   "source": []
  },
  {
   "cell_type": "code",
   "execution_count": null,
   "metadata": {},
   "outputs": [],
   "source": []
  },
  {
   "cell_type": "code",
   "execution_count": null,
   "metadata": {},
   "outputs": [],
   "source": []
  },
  {
   "cell_type": "code",
   "execution_count": null,
   "metadata": {},
   "outputs": [],
   "source": []
  }
 ],
 "metadata": {
  "kernelspec": {
   "display_name": "ddf--bp--energy",
   "language": "python",
   "name": "ddf--bp--energy"
  },
  "language_info": {
   "codemirror_mode": {
    "name": "ipython",
    "version": 3
   },
   "file_extension": ".py",
   "mimetype": "text/x-python",
   "name": "python",
   "nbconvert_exporter": "python",
   "pygments_lexer": "ipython3",
   "version": "3.8.5"
  }
 },
 "nbformat": 4,
 "nbformat_minor": 2
}
