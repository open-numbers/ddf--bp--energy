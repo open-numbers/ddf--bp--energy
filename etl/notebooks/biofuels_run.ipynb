{
 "cells": [
  {
   "cell_type": "code",
   "execution_count": 126,
   "metadata": {},
   "outputs": [],
   "source": [
    "import pandas as pd\n",
    "import xlrd \n",
    "import os\n",
    "from ddf_utils.str import to_concept_id, format_float_digits\n"
   ]
  },
  {
   "cell_type": "code",
   "execution_count": 127,
   "metadata": {},
   "outputs": [],
   "source": [
    "from functools import partial"
   ]
  },
  {
   "cell_type": "code",
   "execution_count": 128,
   "metadata": {},
   "outputs": [],
   "source": [
    "sheet_loader = partial(pd.read_excel, skiprows=2)"
   ]
  },
  {
   "cell_type": "code",
   "execution_count": 129,
   "metadata": {},
   "outputs": [],
   "source": [
    "number_formatter = partial(format_float_digits, digits=8)"
   ]
  },
  {
   "cell_type": "code",
   "execution_count": 130,
   "metadata": {},
   "outputs": [],
   "source": [
    "source_file = '../source/bp-stats-review-2020-all-data.xlsx'"
   ]
  },
  {
   "cell_type": "code",
   "execution_count": 131,
   "metadata": {},
   "outputs": [],
   "source": [
    "countries4 = []"
   ]
  },
  {
   "cell_type": "code",
   "execution_count": 132,
   "metadata": {},
   "outputs": [],
   "source": [
    "def preprocess4(data,i):\n",
    "    \"\"\"preprocessing the data:\n",
    "    1. rename the first column to geo_name\n",
    "    2. rename the geo_name to alphanumeric\n",
    "    3. drop all empty lines and lines after 'total world'\n",
    "\n",
    "    Note: This function only applies to the tab with country as row index\n",
    "    and year as column index.\n",
    "    \"\"\"\n",
    "    \n",
    "    data = data.rename(columns={data.columns[0]: 'geo_name'})\n",
    "    data['geo'] = data['geo_name'].map(to_concept_id)\n",
    "    #data = data.dropna(how='all')\n",
    "    slice_array = data.query('geo == \"total_world\"').index\n",
    "    slice_fuel_array = data.query('geo == @i').index\n",
    "    \n",
    "    \n",
    "    #data = data.loc[:'total_world']\n",
    "    fuel_index = biofuels_index[i]\n",
    "    \n",
    "    if (slice_fuel_array.empty):\n",
    "        data = data.iloc[:slice_array[fuel_index]+1]\n",
    "    else:\n",
    "        data = data.iloc[slice_fuel_array[0]+1:slice_array[fuel_index]+1]\n",
    "    data = data.dropna(how='all')\n",
    "    data = data.set_index('geo')\n",
    "    data = data.reset_index()\n",
    "    return data"
   ]
  },
  {
   "cell_type": "code",
   "execution_count": 133,
   "metadata": {},
   "outputs": [],
   "source": [
    "def make_dict4(sheet, unit, fuel):\n",
    "    return dict(sheet=sheet, unit=unit, fuel=fuel)"
   ]
  },
  {
   "cell_type": "code",
   "execution_count": 134,
   "metadata": {},
   "outputs": [],
   "source": [
    "def process_4(data, ddf_id):\n",
    "    data = data.dropna(axis=1, how='all')\n",
    "    data = data.drop('geo_name', axis=1)\n",
    "    idx = list(data.columns).index(2019)  #TODO: change the year column\n",
    "    data = data.iloc[:, :idx + 1]  # drop columns after latest year of each sheet.\n",
    "    #data = data.drop(['2019.1', '2019.2', '2008-18'], axis=1)\n",
    "    \n",
    "    data = data.set_index('geo')\n",
    "\n",
    "    d = data.T.unstack()\n",
    "    d = d.dropna()\n",
    "    d = d.reset_index()\n",
    "    d.columns = ['geo', 'year', ddf_id]\n",
    "    d[ddf_id] = d[ddf_id].map(number_formatter)\n",
    "\n",
    "    return d.sort_values(by=['geo', 'year'])"
   ]
  },
  {
   "cell_type": "code",
   "execution_count": 135,
   "metadata": {},
   "outputs": [],
   "source": [
    "tabs_indicator_mapping = {'production':[\n",
    "    make_dict4(sheet='Biofuels Production - Kboed', unit='kboed', fuel='biofuel'),\n",
    "    make_dict4(sheet='Biofuels Production - PJ', unit='petajoules', fuel='biofuel'),\n",
    "    make_dict4(sheet='Biofuels Production - Kboed', unit='kboed', fuel='biogasoline'),\n",
    "    make_dict4(sheet='Biofuels Production - PJ', unit='petajoules', fuel='biogasoline'),\n",
    "    make_dict4(sheet='Biofuels Production - Kboed', unit='kboed', fuel='biodiesel'),\n",
    "    make_dict4(sheet='Biofuels Production - PJ', unit='petajoules', fuel='biodiesel'),\n",
    "    \n",
    "],\n",
    "                         'consumption':[\n",
    "    make_dict4(sheet='Biofuels Consumption - Kboed', unit='kboed', fuel='biofuel'),\n",
    "    make_dict4(sheet='Biofuels Consumption - PJ', unit='petajoules', fuel='biofuel'),\n",
    "    make_dict4(sheet='Biofuels Consumption - Kboed', unit='kboed', fuel='biogasoline'),\n",
    "    make_dict4(sheet='Biofuels Consumption - PJ', unit='petajoules', fuel='biogasoline'),\n",
    "    make_dict4(sheet='Biofuels Consumption - Kboed', unit='kboed', fuel='biodiesel'),\n",
    "    make_dict4(sheet='Biofuels Consumption - PJ', unit='petajoules', fuel='biodiesel'),\n",
    "                             \n",
    "],                             \n",
    "                             }"
   ]
  },
  {
   "cell_type": "code",
   "execution_count": 136,
   "metadata": {},
   "outputs": [],
   "source": [
    "biofuels_index = {'biofuel':0,'biogasoline':1,'biodiesel':2}"
   ]
  },
  {
   "cell_type": "code",
   "execution_count": 137,
   "metadata": {},
   "outputs": [],
   "source": [
    "for i, ms in tabs_indicator_mapping.items():\n",
    "    \n",
    "    for m in ms:\n",
    "        data = []\n",
    "        d = sheet_loader(source_file, sheet_name=m['sheet'])\n",
    "        d = preprocess4(d,m['fuel'])\n",
    "        #print(d.query('geo == \"total_world\"').index[0])\n",
    "        #print(biofuels_index[i])\n",
    "        countries4.append(d['geo_name'].unique())\n",
    "        indicator_name = m['fuel'] + '_' + i + '_' + m['unit']\n",
    "        d = process_4(d, indicator_name)\n",
    "        #d['fuel'] = m['fuel']\n",
    "        #d['unit'] = m['unit']\n",
    "        data.append(d)\n",
    "        data = pd.concat(data, ignore_index=True)\n",
    "        df = data[['geo', 'year', indicator_name]]\n",
    "        df[indicator_name] = df[indicator_name].map(number_formatter)\n",
    "        df = df.sort_values(by=['geo', 'year'])\n",
    "        df.to_csv('../../ddf--datapoints--{}--by--geo--year.csv'.format(m['fuel'] + '_' + i + '_' + m['unit']), index=False)"
   ]
  },
  {
   "cell_type": "code",
   "execution_count": 138,
   "metadata": {},
   "outputs": [],
   "source": [
    "#print(countries4)"
   ]
  },
  {
   "cell_type": "code",
   "execution_count": 139,
   "metadata": {},
   "outputs": [],
   "source": [
    "import numpy as np"
   ]
  },
  {
   "cell_type": "code",
   "execution_count": 140,
   "metadata": {},
   "outputs": [],
   "source": [
    "c4 = np.concatenate(countries4)"
   ]
  },
  {
   "cell_type": "code",
   "execution_count": 141,
   "metadata": {},
   "outputs": [],
   "source": [
    "c4 = pd.DataFrame({'name': c4})"
   ]
  },
  {
   "cell_type": "code",
   "execution_count": 142,
   "metadata": {},
   "outputs": [],
   "source": [
    "c4['name'] = c4['name'].str.strip()"
   ]
  },
  {
   "cell_type": "code",
   "execution_count": 143,
   "metadata": {},
   "outputs": [],
   "source": [
    "c4 = c4.drop_duplicates(subset='name')\n",
    "c4['geo'] = c4['name'].map(to_concept_id)"
   ]
  },
  {
   "cell_type": "code",
   "execution_count": 144,
   "metadata": {},
   "outputs": [
    {
     "name": "stdout",
     "output_type": "stream",
     "text": [
      "geo,name\n",
      "canada,Canada\n",
      "mexico,Mexico\n",
      "us,US\n",
      "total_north_america,Total North America\n",
      "argentina,Argentina\n",
      "brazil,Brazil\n",
      "colombia,Colombia\n",
      "other_s_cent_america,Other S. & Cent. America\n",
      "total_s_cent_america,Total S. & Cent. America\n",
      "austria,Austria\n",
      "belgium,Belgium\n",
      "finland,Finland\n",
      "france,France\n",
      "germany,Germany\n",
      "italy,Italy\n",
      "netherlands,Netherlands\n",
      "poland,Poland\n",
      "portugal,Portugal\n",
      "spain,Spain\n",
      "sweden,Sweden\n",
      "united_kingdom,United Kingdom\n",
      "other_europe,Other Europe\n",
      "total_europe,Total Europe\n",
      "total_cis,Total CIS\n",
      "total_middle_east,Total Middle East\n",
      "total_africa,Total Africa\n",
      "australia,Australia\n",
      "china,China\n",
      "india,India\n",
      "indonesia,Indonesia\n",
      "south_korea,South Korea\n",
      "thailand,Thailand\n",
      "other_asia_pacific,Other Asia Pacific\n",
      "total_asia_pacific,Total Asia Pacific\n",
      "total_world,Total World\n",
      "canada_mexico,Canada & Mexico\n",
      "europe,Europe\n",
      "cis,CIS\n",
      "middle_east,Middle East\n",
      "africa,Africa\n",
      "asia_pacific,Asia Pacific\n",
      "\n"
     ]
    }
   ],
   "source": [
    "print(c4[['geo', 'name']].to_csv(index=False))"
   ]
  },
  {
   "cell_type": "code",
   "execution_count": null,
   "metadata": {},
   "outputs": [],
   "source": []
  }
 ],
 "metadata": {
  "kernelspec": {
   "display_name": "ddf--bp--energy",
   "language": "python",
   "name": "ddf--bp--energy"
  },
  "language_info": {
   "codemirror_mode": {
    "name": "ipython",
    "version": 3
   },
   "file_extension": ".py",
   "mimetype": "text/x-python",
   "name": "python",
   "nbconvert_exporter": "python",
   "pygments_lexer": "ipython3",
   "version": "3.8.5"
  }
 },
 "nbformat": 4,
 "nbformat_minor": 4
}
