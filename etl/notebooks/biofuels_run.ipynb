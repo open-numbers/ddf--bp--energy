{
 "cells": [
  {
   "cell_type": "code",
   "execution_count": 1,
   "metadata": {},
   "outputs": [],
   "source": [
    "import pandas as pd\n",
    "import xlrd \n",
    "import os\n",
    "from ddf_utils.str import to_concept_id, format_float_digits\n"
   ]
  },
  {
   "cell_type": "code",
   "execution_count": 2,
   "metadata": {},
   "outputs": [],
   "source": [
    "from functools import partial"
   ]
  },
  {
   "cell_type": "code",
   "execution_count": 3,
   "metadata": {},
   "outputs": [],
   "source": [
    "sheet_loader = partial(pd.read_excel, skiprows=2)"
   ]
  },
  {
   "cell_type": "code",
   "execution_count": 4,
   "metadata": {},
   "outputs": [],
   "source": [
    "number_formatter = partial(format_float_digits, digits=8)"
   ]
  },
  {
   "cell_type": "code",
   "execution_count": 5,
   "metadata": {},
   "outputs": [],
   "source": [
    "source_file = '../source/bp-stats-review-2020-all-data.xlsx'"
   ]
  },
  {
   "cell_type": "code",
   "execution_count": 6,
   "metadata": {},
   "outputs": [],
   "source": [
    "countries = []"
   ]
  },
  {
   "cell_type": "code",
   "execution_count": 7,
   "metadata": {},
   "outputs": [],
   "source": [
    "def preprocess(data,i):\n",
    "    \"\"\"preprocessing the data:\n",
    "    1. rename the first column to geo_name\n",
    "    2. rename the geo_name to alphanumeric\n",
    "    3. drop all empty lines and lines after 'total world'\n",
    "\n",
    "    Note: This function only applies to the tab with country as row index\n",
    "    and year as column index.\n",
    "    \"\"\"\n",
    "    \n",
    "    data = data.rename(columns={data.columns[0]: 'geo_name'})\n",
    "    data['geo'] = data['geo_name'].map(to_concept_id)\n",
    "    #data = data.dropna(how='all')\n",
    "    slice_array = data.query('geo == \"total_world\"').index\n",
    "    slice_fuel_array = data.query('geo == @i').index\n",
    "    \n",
    "    \n",
    "    #data = data.loc[:'total_world']\n",
    "    fuel_index = biofuels_index[i]\n",
    "    print (slice_array[fuel_index])\n",
    "    if (slice_fuel_array.empty):\n",
    "        data = data.iloc[:slice_array[fuel_index]+1]\n",
    "    else:\n",
    "        data = data.iloc[slice_fuel_array[0]:slice_array[fuel_index]+1]\n",
    "    data = data.dropna(how='all')\n",
    "    data = data.set_index('geo')\n",
    "    data = data.reset_index()\n",
    "    return data"
   ]
  },
  {
   "cell_type": "code",
   "execution_count": 8,
   "metadata": {},
   "outputs": [],
   "source": [
    "def make_dict1(sheet, unit, fuel):\n",
    "    return dict(sheet=sheet, unit=unit, fuel=fuel)"
   ]
  },
  {
   "cell_type": "code",
   "execution_count": 9,
   "metadata": {},
   "outputs": [],
   "source": [
    "def process_1(data, ddf_id):\n",
    "    data = data.dropna(axis=1, how='all')\n",
    "    data = data.drop('geo_name', axis=1)\n",
    "    idx = list(data.columns).index(2019)  #TODO: change the year column\n",
    "    data = data.iloc[:, :idx + 1]  # drop columns after latest year of each sheet.\n",
    "    #data = data.drop(['2019.1', '2019.2', '2008-18'], axis=1)\n",
    "    \n",
    "    data = data.set_index('geo')\n",
    "\n",
    "    d = data.T.unstack()\n",
    "    d = d.dropna()\n",
    "    d = d.reset_index()\n",
    "    d.columns = ['geo', 'year', ddf_id]\n",
    "    d[ddf_id] = d[ddf_id].map(number_formatter)\n",
    "\n",
    "    return d.sort_values(by=['geo', 'year'])"
   ]
  },
  {
   "cell_type": "code",
   "execution_count": 10,
   "metadata": {},
   "outputs": [],
   "source": [
    "tabs_indicator_mapping = {'production':[\n",
    "    make_dict1(sheet='Biofuels Production - Kboed', unit='kboed', fuel='biofuel'),\n",
    "    make_dict1(sheet='Biofuels Production - PJ', unit='petajoules', fuel='biofuel'),\n",
    "    make_dict1(sheet='Biofuels Production - Kboed', unit='kboed', fuel='biogasoline'),\n",
    "    make_dict1(sheet='Biofuels Production - PJ', unit='petajoules', fuel='biogasoline'),\n",
    "    make_dict1(sheet='Biofuels Production - Kboed', unit='kboed', fuel='biodiesel'),\n",
    "    make_dict1(sheet='Biofuels Production - PJ', unit='petajoules', fuel='biodiesel'),\n",
    "    \n",
    "],\n",
    "                         'consumption':[\n",
    "    make_dict1(sheet='Biofuels Consumption - Kboed', unit='kboed', fuel='biofuel'),\n",
    "    make_dict1(sheet='Biofuels Consumption - PJ', unit='petajoules', fuel='biofuel'),\n",
    "    make_dict1(sheet='Biofuels Consumption - Kboed', unit='kboed', fuel='biogasoline'),\n",
    "    make_dict1(sheet='Biofuels Consumption - PJ', unit='petajoules', fuel='biogasoline'),\n",
    "    make_dict1(sheet='Biofuels Consumption - Kboed', unit='kboed', fuel='biodiesel'),\n",
    "    make_dict1(sheet='Biofuels Consumption - PJ', unit='petajoules', fuel='biodiesel'),\n",
    "                             \n",
    "],                             \n",
    "                             }"
   ]
  },
  {
   "cell_type": "code",
   "execution_count": 11,
   "metadata": {},
   "outputs": [],
   "source": [
    "biofuels_index = {'biofuel':0,'biogasoline':1,'biodiesel':2}"
   ]
  },
  {
   "cell_type": "code",
   "execution_count": 12,
   "metadata": {},
   "outputs": [
    {
     "name": "stdout",
     "output_type": "stream",
     "text": [
      "42\n",
      "42\n",
      "59\n",
      "59\n",
      "75\n",
      "75\n",
      "42\n",
      "42\n",
      "59\n",
      "59\n",
      "75\n",
      "75\n"
     ]
    }
   ],
   "source": [
    "for i, ms in tabs_indicator_mapping.items():\n",
    "    \n",
    "    for m in ms:\n",
    "        data = []\n",
    "        d = sheet_loader(source_file, sheet_name=m['sheet'])\n",
    "        d = preprocess(d,m['fuel'])\n",
    "        #print(d.query('geo == \"total_world\"').index[0])\n",
    "        #print(biofuels_index[i])\n",
    "        countries.append(d['geo_name'].unique())\n",
    "        indicator_name = m['fuel'] + '_' + i + '_' + m['unit']\n",
    "        d = process_1(d, indicator_name)\n",
    "        #d['fuel'] = m['fuel']\n",
    "        #d['unit'] = m['unit']\n",
    "        data.append(d)\n",
    "        data = pd.concat(data, ignore_index=True)\n",
    "        df = data[['geo', 'year', indicator_name]]\n",
    "        df[indicator_name] = df[indicator_name].map(number_formatter)\n",
    "        df = df.sort_values(by=['geo', 'year'])\n",
    "        df.to_csv('../../ddf--datapoints--{}--by--geo--year.csv'.format(m['fuel'] + '_' + i + '_' + m['unit']), index=False)"
   ]
  }
 ],
 "metadata": {
  "kernelspec": {
   "display_name": "ddf--bp--energy",
   "language": "python",
   "name": "ddf--bp--energy"
  },
  "language_info": {
   "codemirror_mode": {
    "name": "ipython",
    "version": 3
   },
   "file_extension": ".py",
   "mimetype": "text/x-python",
   "name": "python",
   "nbconvert_exporter": "python",
   "pygments_lexer": "ipython3",
   "version": "3.8.5"
  }
 },
 "nbformat": 4,
 "nbformat_minor": 4
}
